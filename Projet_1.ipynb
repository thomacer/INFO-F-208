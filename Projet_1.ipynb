{
 "cells": [
  {
   "cell_type": "markdown",
   "metadata": {
    "collapsed": true
   },
   "source": [
    "# INFO-F-208\n",
    "\n",
    "## Partie 1.1\n",
    "\n",
    "Avant d'implémenter un algorithme qui calcule l’alignement entre deux séquences, vous implémentez deux ADT (Abstract Data Type):    \n",
    "\n",
    "* Un ADT séquence qui représente une séquence d’acides aminés et tous les opérations qu’on peut exécuter sur une séquence."
   ]
  },
  {
   "cell_type": "code",
   "execution_count": 18,
   "metadata": {
    "collapsed": true
   },
   "outputs": [],
   "source": [
    "class Sequence(str):\n",
    "    \"\"\"\n",
    "    ADT séquence qui représente une séquence d’acides aminés\n",
    "    et tous les opérations qu’on peut exécuter sur une séquence.\n",
    "    \"\"\"\n",
    "    def __init__(self, sequence):\n",
    "        self.sequence = sequence\n",
    "    \n",
    "    def __repr__(self):\n",
    "        return self.sequence\n",
    "    \n",
    "    def __getitem__(self, index):\n",
    "        \"\"\"\n",
    "        @desc: Permet d'interpreter la classe comme une \"String\".\n",
    "        \n",
    "        @param{index}: Index de la lettre qu'on veut consulter.\n",
    "        \"\"\"\n",
    "        return self.sequence[index]\n",
    "\n",
    "    @staticmethod\n",
    "    def load(filename):\n",
    "        \"\"\"\n",
    "        \"\"\"\n",
    "        with open(filename) as f:\n",
    "            seq = \"\"\n",
    "            for line in f:\n",
    "                if line[0] == \">\":\n",
    "                    if seq:\n",
    "                        yield Sequence(seq)\n",
    "                    seq = \"\"\n",
    "                else:\n",
    "                    seq += line[:-1] # Not including '\\n'\n",
    "                    \n",
    "            if (seq):\n",
    "                yield Sequence(seq)"
   ]
  },
  {
   "cell_type": "code",
   "execution_count": 19,
   "metadata": {
    "collapsed": false
   },
   "outputs": [],
   "source": [
    "sh3sequence = [seq for seq in Sequence.load(\"./SH3-sequence.fasta\")]\n",
    "maguk = [seq for seq in Sequence.load(\"./maguk-sequences.fasta\")]"
   ]
  },
  {
   "cell_type": "markdown",
   "metadata": {},
   "source": [
    "* Un ADT score qui représente une matrice de substitution et les opérations qu’on peut exécuter sur cette matrice."
   ]
  },
  {
   "cell_type": "code",
   "execution_count": 5,
   "metadata": {
    "collapsed": false
   },
   "outputs": [],
   "source": [
    "class _ScoreLine:\n",
    "    \"\"\"\n",
    "    ADT utilisée pour pouvoir utiliser l'ADT Score comme une matrice.\n",
    "    \"\"\"\n",
    "    def __init__(self, line, indexes):\n",
    "        self.line = line\n",
    "        self.indexes = indexes\n",
    "    \n",
    "    def __getitem__(self, letter):\n",
    "        j = self.indexes.index(letter)\n",
    "        return self.line[j]\n",
    "\n",
    "class Score:\n",
    "    INDEXES = \"ARNDCQEGHILKMFPSTWYV\"\n",
    "    def __init__(self, matrix = [[]], indexes = INDEXES):\n",
    "        self.matrix = matrix\n",
    "        self.indexes = indexes\n",
    "        \n",
    "    def __getitem__(self, letter): \n",
    "        \"\"\"\n",
    "        @desc: Renvoie le score d'une combinaison de deux acides\n",
    "        \n",
    "        @param{letter}: Le premier acide.\n",
    "        @ex: Score['A']['Q']\n",
    "        \"\"\"\n",
    "        i = self.indexes.index(letter)\n",
    "        return _ScoreLine(self.matrix[i], self.indexes)\n",
    "\n",
    "    def __repr__(self):\n",
    "        ret = \"  \"\n",
    "        for char in self.indexes:\n",
    "            ret += \" %3s \" % (char)\n",
    "        ret += '\\n'\n",
    "        i = 0\n",
    "        for line in self.matrix:\n",
    "            ret += \"%3s \" % (self.indexes[i])\n",
    "            i += 1\n",
    "            for char in line:\n",
    "                if (char >= 0):\n",
    "                    ret += ' '\n",
    "                ret += \"%3s \" % (char)\n",
    "            ret += '\\n'\n",
    "\n",
    "        return ret\n",
    "    \n",
    "    @staticmethod\n",
    "    def load(filename):\n",
    "        f = open(filename)\n",
    "        matrix = []\n",
    "        indexes = Score.INDEXES\n",
    "        for line in f:\n",
    "            if line[0] == '#':\n",
    "                pass\n",
    "            elif line[0] == ' ' or line[0] == '\\t':\n",
    "                indexes = line.split()\n",
    "            elif line[0].isalpha() or line[0] == '*' or line[0] == '-':\n",
    "                l = line[1:]\n",
    "                matrix.append(list(map(int, l.split())))\n",
    "        f.close()\n",
    "        assert(len(indexes) == 24)\n",
    "        assert(len(matrix) == len(indexes))\n",
    "        return Score(matrix, indexes)"
   ]
  },
  {
   "cell_type": "markdown",
   "metadata": {},
   "source": [
    "# Implémentation de l'algorithme de Needleman-Wunsch\n",
    "\n",
    "En utilisant les ADT construits pendant l'étape précédente, vous implémentez en Python l’algorithme Needleman‐Wunsch qui calcule l’alignement global en utilisant la pénalité affine."
   ]
  },
  {
   "cell_type": "code",
   "execution_count": 25,
   "metadata": {
    "collapsed": true
   },
   "outputs": [],
   "source": [
    "OPENING_GAP_PENALTY = -12\n",
    "EXTENDING_GAP_PENALTY = -2"
   ]
  },
  {
   "cell_type": "code",
   "execution_count": 87,
   "metadata": {
    "collapsed": true
   },
   "outputs": [],
   "source": [
    "def init_matrix(x, y):\n",
    "    \"\"\"\n",
    "    Initialize the matrix with zeros and a column of base score.\n",
    "    \"\"\"\n",
    "    return [[(i * (OPENING_GAP_PENALTY + (j - 1) * EXTENDING_GAP_PENALTY)) + (j * (OPENING_GAP_PENALTY + (i - 1) * EXTENDING_GAP_PENALTY)) if (i == 0 or j == 0) else 0 for j in range(y + 1)] for i in range(x + 1)]"
   ]
  },
  {
   "cell_type": "code",
   "execution_count": 88,
   "metadata": {
    "collapsed": false
   },
   "outputs": [
    {
     "name": "stdout",
     "output_type": "stream",
     "text": [
      "     A    R    N    D    C    Q    E    G    H    I    L    K    M    F    P    S    T    W    Y    V    B    Z    X    * \n",
      "  A    5  -2  -2  -2  -1  -1  -1    0  -2  -2  -2  -1  -1  -3  -1    1    0  -3  -2    0  -2  -1  -1  -6 \n",
      "  R  -2    6  -1  -2  -4    1  -1  -3    0  -3  -3    2  -2  -4  -2  -1  -1  -4  -3  -3  -2    0  -1  -6 \n",
      "  N  -2  -1    6    1  -3    0  -1  -1    0  -4  -4    0  -3  -4  -3    0    0  -4  -3  -4    4    0  -1  -6 \n",
      "  D  -2  -2    1    6  -4  -1    1  -2  -2  -4  -5  -1  -4  -4  -2  -1  -1  -6  -4  -4    4    1  -1  -6 \n",
      "  C  -1  -4  -3  -4    9  -4  -5  -4  -4  -2  -2  -4  -2  -3  -4  -2  -1  -3  -3  -1  -4  -4  -1  -6 \n",
      "  Q  -1    1    0  -1  -4    6    2  -2    1  -3  -3    1    0  -4  -2    0  -1  -3  -2  -3    0    3  -1  -6 \n",
      "  E  -1  -1  -1    1  -5    2    6  -3    0  -4  -4    1  -2  -4  -2    0  -1  -4  -3  -3    1    4  -1  -6 \n",
      "  G    0  -3  -1  -2  -4  -2  -3    6  -3  -5  -4  -2  -4  -4  -3  -1  -2  -4  -4  -4  -1  -3  -1  -6 \n",
      "  H  -2    0    0  -2  -4    1    0  -3    8  -4  -3  -1  -2  -2  -3  -1  -2  -3    2  -4  -1    0  -1  -6 \n",
      "  I  -2  -3  -4  -4  -2  -3  -4  -5  -4    5    1  -3    1  -1  -4  -3  -1  -3  -2    3  -4  -4  -1  -6 \n",
      "  L  -2  -3  -4  -5  -2  -3  -4  -4  -3    1    4  -3    2    0  -3  -3  -2  -2  -2    1  -4  -3  -1  -6 \n",
      "  K  -1    2    0  -1  -4    1    1  -2  -1  -3  -3    5  -2  -4  -1  -1  -1  -4  -3  -3  -1    1  -1  -6 \n",
      "  M  -1  -2  -3  -4  -2    0  -2  -4  -2    1    2  -2    6    0  -3  -2  -1  -2  -2    1  -3  -2  -1  -6 \n",
      "  F  -3  -4  -4  -4  -3  -4  -4  -4  -2  -1    0  -4    0    6  -4  -3  -2    0    3  -1  -4  -4  -1  -6 \n",
      "  P  -1  -2  -3  -2  -4  -2  -2  -3  -3  -4  -3  -1  -3  -4    8  -1  -2  -5  -4  -3  -2  -2  -1  -6 \n",
      "  S    1  -1    0  -1  -2    0    0  -1  -1  -3  -3  -1  -2  -3  -1    5    1  -4  -2  -2    0    0  -1  -6 \n",
      "  T    0  -1    0  -1  -1  -1  -1  -2  -2  -1  -2  -1  -1  -2  -2    1    5  -4  -2    0  -1  -1  -1  -6 \n",
      "  W  -3  -4  -4  -6  -3  -3  -4  -4  -3  -3  -2  -4  -2    0  -5  -4  -4   11    2  -3  -5  -4  -1  -6 \n",
      "  Y  -2  -3  -3  -4  -3  -2  -3  -4    2  -2  -2  -3  -2    3  -4  -2  -2    2    7  -2  -3  -3  -1  -6 \n",
      "  V    0  -3  -4  -4  -1  -3  -3  -4  -4    3    1  -3    1  -1  -3  -2    0  -3  -2    4  -4  -3  -1  -6 \n",
      "  B  -2  -2    4    4  -4    0    1  -1  -1  -4  -4  -1  -3  -4  -2    0  -1  -5  -3  -4    4    0  -1  -6 \n",
      "  Z  -1    0    0    1  -4    3    4  -3    0  -4  -3    1  -2  -4  -2    0  -1  -4  -3  -3    0    4  -1  -6 \n",
      "  X  -1  -1  -1  -1  -1  -1  -1  -1  -1  -1  -1  -1  -1  -1  -1  -1  -1  -1  -1  -1  -1  -1  -1  -6 \n",
      "  *  -6  -6  -6  -6  -6  -6  -6  -6  -6  -6  -6  -6  -6  -6  -6  -6  -6  -6  -6  -6  -6  -6  -6    1 \n",
      "\n",
      "     A    R    N    D    C    Q    E    G    H    I    L    K    M    F    P    S    T    W    Y    V    B    Z    X    * \n",
      "  A    4  -1  -2  -2    0  -1  -1    0  -2  -1  -1  -1  -1  -2  -1    1    0  -3  -2    0  -2  -1    0  -4 \n",
      "  R  -1    5    0  -2  -3    1    0  -2    0  -3  -2    2  -1  -3  -2  -1  -1  -3  -2  -3  -1    0  -1  -4 \n",
      "  N  -2    0    6    1  -3    0    0    0    1  -3  -3    0  -2  -3  -2    1    0  -4  -2  -3    3    0  -1  -4 \n",
      "  D  -2  -2    1    6  -3    0    2  -1  -1  -3  -4  -1  -3  -3  -1    0  -1  -4  -3  -3    4    1  -1  -4 \n",
      "  C    0  -3  -3  -3    9  -3  -4  -3  -3  -1  -1  -3  -1  -2  -3  -1  -1  -2  -2  -1  -3  -3  -2  -4 \n",
      "  Q  -1    1    0    0  -3    5    2  -2    0  -3  -2    1    0  -3  -1    0  -1  -2  -1  -2    0    3  -1  -4 \n",
      "  E  -1    0    0    2  -4    2    5  -2    0  -3  -3    1  -2  -3  -1    0  -1  -3  -2  -2    1    4  -1  -4 \n",
      "  G    0  -2    0  -1  -3  -2  -2    6  -2  -4  -4  -2  -3  -3  -2    0  -2  -2  -3  -3  -1  -2  -1  -4 \n",
      "  H  -2    0    1  -1  -3    0    0  -2    8  -3  -3  -1  -2  -1  -2  -1  -2  -2    2  -3    0    0  -1  -4 \n",
      "  I  -1  -3  -3  -3  -1  -3  -3  -4  -3    4    2  -3    1    0  -3  -2  -1  -3  -1    3  -3  -3  -1  -4 \n",
      "  L  -1  -2  -3  -4  -1  -2  -3  -4  -3    2    4  -2    2    0  -3  -2  -1  -2  -1    1  -4  -3  -1  -4 \n",
      "  K  -1    2    0  -1  -3    1    1  -2  -1  -3  -2    5  -1  -3  -1    0  -1  -3  -2  -2    0    1  -1  -4 \n",
      "  M  -1  -1  -2  -3  -1    0  -2  -3  -2    1    2  -1    5    0  -2  -1  -1  -1  -1    1  -3  -1  -1  -4 \n",
      "  F  -2  -3  -3  -3  -2  -3  -3  -3  -1    0    0  -3    0    6  -4  -2  -2    1    3  -1  -3  -3  -1  -4 \n",
      "  P  -1  -2  -2  -1  -3  -1  -1  -2  -2  -3  -3  -1  -2  -4    7  -1  -1  -4  -3  -2  -2  -1  -2  -4 \n",
      "  S    1  -1    1    0  -1    0    0    0  -1  -2  -2    0  -1  -2  -1    4    1  -3  -2  -2    0    0    0  -4 \n",
      "  T    0  -1    0  -1  -1  -1  -1  -2  -2  -1  -1  -1  -1  -2  -1    1    5  -2  -2    0  -1  -1    0  -4 \n",
      "  W  -3  -3  -4  -4  -2  -2  -3  -2  -2  -3  -2  -3  -1    1  -4  -3  -2   11    2  -3  -4  -3  -2  -4 \n",
      "  Y  -2  -2  -2  -3  -2  -1  -2  -3    2  -1  -1  -2  -1    3  -3  -2  -2    2    7  -1  -3  -2  -1  -4 \n",
      "  V    0  -3  -3  -3  -1  -2  -2  -3  -3    3    1  -2    1  -1  -2  -2    0  -3  -1    4  -3  -2  -1  -4 \n",
      "  B  -2  -1    3    4  -3    0    1  -1    0  -3  -4    0  -3  -3  -2    0  -1  -4  -3  -3    4    1  -1  -4 \n",
      "  Z  -1    0    0    1  -3    3    4  -2    0  -3  -3    1  -1  -3  -1    0  -1  -3  -2  -2    1    4  -1  -4 \n",
      "  X    0  -1  -1  -1  -2  -1  -1  -1  -1  -1  -1  -1  -1  -1  -2    0    0  -2  -1  -1  -1  -1  -1  -4 \n",
      "  *  -4  -4  -4  -4  -4  -4  -4  -4  -4  -4  -4  -4  -4  -4  -4  -4  -4  -4  -4  -4  -4  -4  -4    1 \n",
      "\n",
      "     A    R    N    D    C    Q    E    G    H    I    L    K    M    F    P    S    T    W    Y    V    B    Z    X    * \n",
      "  A    3  -3  -1    0  -3  -1    0    1  -3  -1  -3  -2  -2  -4    1    1    1  -7  -4    0    0  -1  -1  -8 \n",
      "  R  -3    6  -1  -3  -4    1  -3  -4    1  -2  -4    2  -1  -5  -1  -1  -2    1  -5  -3  -2  -1  -2  -8 \n",
      "  N  -1  -1    4    2  -5    0    1    0    2  -2  -4    1  -3  -4  -2    1    0  -4  -2  -3    3    0  -1  -8 \n",
      "  D    0  -3    2    5  -7    1    3    0    0  -3  -5  -1  -4  -7  -3    0  -1  -8  -5  -3    4    3  -2  -8 \n",
      "  C  -3  -4  -5  -7    9  -7  -7  -4  -4  -3  -7  -7  -6  -6  -4    0  -3  -8  -1  -3  -6  -7  -4  -8 \n",
      "  Q  -1    1    0    1  -7    6    2  -3    3  -3  -2    0  -1  -6    0  -2  -2  -6  -5  -3    0    4  -1  -8 \n",
      "  E    0  -3    1    3  -7    2    5  -1  -1  -3  -4  -1  -3  -7  -2  -1  -2  -8  -5  -3    3    4  -1  -8 \n",
      "  G    1  -4    0    0  -4  -3  -1    5  -4  -4  -5  -3  -4  -5  -2    1  -1  -8  -6  -2    0  -2  -2  -8 \n",
      "  H  -3    1    2    0  -4    3  -1  -4    7  -4  -3  -2  -4  -3  -1  -2  -3  -3  -1  -3    1    1  -2  -8 \n",
      "  I  -1  -2  -2  -3  -3  -3  -3  -4  -4    6    1  -3    1    0  -3  -2    0  -6  -2    3  -3  -3  -1  -8 \n",
      "  L  -3  -4  -4  -5  -7  -2  -4  -5  -3    1    5  -4    3    0  -3  -4  -3  -3  -2    1  -4  -3  -2  -8 \n",
      "  K  -2    2    1  -1  -7    0  -1  -3  -2  -3  -4    5    0  -7  -2  -1  -1  -5  -5  -4    0  -1  -2  -8 \n",
      "  M  -2  -1  -3  -4  -6  -1  -3  -4  -4    1    3    0    8  -1  -3  -2  -1  -6  -4    1  -4  -2  -2  -8 \n",
      "  F  -4  -5  -4  -7  -6  -6  -7  -5  -3    0    0  -7  -1    8  -5  -3  -4  -1    4  -3  -5  -6  -3  -8 \n",
      "  P    1  -1  -2  -3  -4    0  -2  -2  -1  -3  -3  -2  -3  -5    6    1  -1  -7  -6  -2  -2  -1  -2  -8 \n",
      "  S    1  -1    1    0    0  -2  -1    1  -2  -2  -4  -1  -2  -3    1    3    2  -2  -3  -2    0  -1  -1  -8 \n",
      "  T    1  -2    0  -1  -3  -2  -2  -1  -3    0  -3  -1  -1  -4  -1    2    4  -6  -3    0    0  -2  -1  -8 \n",
      "  W  -7    1  -4  -8  -8  -6  -8  -8  -3  -6  -3  -5  -6  -1  -7  -2  -6   12  -2  -8  -6  -7  -5  -8 \n",
      "  Y  -4  -5  -2  -5  -1  -5  -5  -6  -1  -2  -2  -5  -4    4  -6  -3  -3  -2    8  -3  -3  -5  -3  -8 \n",
      "  V    0  -3  -3  -3  -3  -3  -3  -2  -3    3    1  -4    1  -3  -2  -2    0  -8  -3    5  -3  -3  -1  -8 \n",
      "  B    0  -2    3    4  -6    0    3    0    1  -3  -4    0  -4  -5  -2    0    0  -6  -3  -3    4    2  -1  -8 \n",
      "  Z  -1  -1    0    3  -7    4    4  -2    1  -3  -3  -1  -2  -6  -1  -1  -2  -7  -5  -3    2    4  -1  -8 \n",
      "  X  -1  -2  -1  -2  -4  -1  -1  -2  -2  -1  -2  -2  -2  -3  -2  -1  -1  -5  -3  -1  -1  -1  -2  -8 \n",
      "  *  -8  -8  -8  -8  -8  -8  -8  -8  -8  -8  -8  -8  -8  -8  -8  -8  -8  -8  -8  -8  -8  -8  -8    1 \n",
      "\n",
      "     A    R    N    D    C    Q    E    G    H    I    L    K    M    F    P    S    T    W    Y    V    B    Z    X    * \n",
      "  A    5  -5  -2  -2  -5  -3  -1    0  -5  -3  -4  -5  -3  -6    0    1    1 -10  -6  -1  -2  -2  -2 -12 \n",
      "  R  -5    8  -3  -6  -6    0  -6  -7    0  -4  -6    2  -2  -7  -2  -2  -4    0  -8  -5  -5  -2  -4 -12 \n",
      "  N  -2  -3    6    2  -7  -2    0  -1    1  -4  -5    0  -6  -6  -4    1  -1  -6  -3  -5    5  -1  -2 -12 \n",
      "  D  -2  -6    2    7 -10  -1    3  -2  -2  -5  -9  -2  -7 -11  -5  -2  -3 -11  -8  -6    5    2  -3 -12 \n",
      "  C  -5  -6  -7 -10    9 -10 -10  -7  -6  -4 -11 -10 -10  -9  -6  -1  -5 -12  -2  -4  -9 -10  -6 -12 \n",
      "  Q  -3    0  -2  -1 -10    7    2  -5    2  -5  -3  -1  -2  -9  -1  -3  -4  -9  -8  -5  -1    6  -3 -12 \n",
      "  E  -1  -6    0    3 -10    2    7  -2  -3  -4  -7  -3  -5 -10  -3  -2  -4 -12  -7  -4    2    5  -3 -12 \n",
      "  G    0  -7  -1  -2  -7  -5  -2    6  -6  -7  -8  -5  -6  -7  -4    0  -3 -11 -10  -4  -2  -3  -3 -12 \n",
      "  H  -5    0    1  -2  -6    2  -3  -6    8  -6  -4  -4  -7  -4  -2  -4  -5  -5  -2  -5    0    0  -3 -12 \n",
      "  I  -3  -4  -4  -5  -4  -5  -4  -7  -6    7    0  -4    1  -1  -6  -4  -1 -10  -4    3  -4  -4  -3 -12 \n",
      "  L  -4  -6  -5  -9 -11  -3  -7  -8  -4    0    6  -6    2  -1  -5  -6  -5  -4  -5  -1  -7  -5  -4 -12 \n",
      "  K  -5    2    0  -2 -10  -1  -3  -5  -4  -4  -6    6    0 -10  -4  -2  -2  -8  -7  -6  -1  -2  -3 -12 \n",
      "  M  -3  -2  -6  -7 -10  -2  -5  -6  -7    1    2    0   10  -2  -6  -4  -2  -9  -7    0  -6  -4  -3 -12 \n",
      "  F  -6  -7  -6 -11  -9  -9 -10  -7  -4  -1  -1 -10  -2    8  -7  -5  -6  -3    3  -5  -8 -10  -5 -12 \n",
      "  P    0  -2  -4  -5  -6  -1  -3  -4  -2  -6  -5  -4  -6  -7    7    0  -2 -10 -10  -4  -4  -2  -3 -12 \n",
      "  S    1  -2    1  -2  -1  -3  -2    0  -4  -4  -6  -2  -4  -5    0    5    1  -4  -5  -4    0  -3  -2 -12 \n",
      "  T    1  -4  -1  -3  -5  -4  -4  -3  -5  -1  -5  -2  -2  -6  -2    1    6  -9  -5  -1  -2  -4  -2 -12 \n",
      "  W -10    0  -6 -11 -12  -9 -12 -11  -5 -10  -4  -8  -9  -3 -10  -4  -9   13  -3 -11  -8 -11  -8 -12 \n",
      "  Y  -6  -8  -3  -8  -2  -8  -7 -10  -2  -4  -5  -7  -7    3 -10  -5  -5  -3    9  -5  -5  -7  -5 -12 \n",
      "  V  -1  -5  -5  -6  -4  -5  -4  -4  -5    3  -1  -6    0  -5  -4  -4  -1 -11  -5    6  -5  -5  -3 -12 \n",
      "  B  -2  -5    5    5  -9  -1    2  -2    0  -4  -7  -1  -6  -8  -4    0  -2  -8  -5  -5    5    1  -3 -12 \n",
      "  Z  -2  -2  -1    2 -10    6    5  -3    0  -4  -5  -2  -4 -10  -2  -3  -4 -11  -7  -5    1    5  -3 -12 \n",
      "  X  -2  -4  -2  -3  -6  -3  -3  -3  -3  -3  -4  -3  -3  -5  -3  -2  -2  -8  -5  -3  -3  -3  -3 -12 \n",
      "  * -12 -12 -12 -12 -12 -12 -12 -12 -12 -12 -12 -12 -12 -12 -12 -12 -12 -12 -12 -12 -12 -12 -12    1 \n",
      "\n"
     ]
    }
   ],
   "source": [
    "blosum80 = Score.load('./blosum80.txt')\n",
    "print(blosum80)\n",
    "blosum62 = Score.load('./blosum62.txt')\n",
    "print(blosum62)\n",
    "pam120 = Score.load('./pam120.txt')\n",
    "print(pam120)\n",
    "pam60 = Score.load('./pam60.txt')\n",
    "print(pam60)"
   ]
  },
  {
   "cell_type": "code",
   "execution_count": 89,
   "metadata": {
    "collapsed": false
   },
   "outputs": [],
   "source": [
    "class NeedlemanWunsch:\n",
    "    def __init__(self, seq1, seq2, scoringMatrix):\n",
    "        self.seq1 = seq1\n",
    "        self.seq2 = seq2\n",
    "        self.scoringMatrix = scoringMatrix\n",
    "        self.result = []\n",
    "        \n",
    "        self.m = len(seq1)\n",
    "        self.n = len(seq2)\n",
    "        \n",
    "        self.S = [[(i * (OPENING_GAP_PENALTY + (j - 1) * EXTENDING_GAP_PENALTY)) + (j * (OPENING_GAP_PENALTY + (i - 1) * EXTENDING_GAP_PENALTY)) if (i == 0 or j == 0) else 0 for j in range(self.n + 1)] for i in range(self.m + 1)]\n",
    "        self.V = [[(i * (OPENING_GAP_PENALTY + (j - 1) * EXTENDING_GAP_PENALTY)) + (j * (OPENING_GAP_PENALTY + (i - 1) * EXTENDING_GAP_PENALTY)) if (i == 0 or j == 0) else 0 for j in range(self.n + 1)] for i in range(self.m + 1)]\n",
    "        self.W = [[(i * (OPENING_GAP_PENALTY + (j - 1) * EXTENDING_GAP_PENALTY)) + (j * (OPENING_GAP_PENALTY + (i - 1) * EXTENDING_GAP_PENALTY)) if (i == 0 or j == 0) else 0 for j in range(self.n + 1)] for i in range(self.m + 1)]\n",
    "        \n",
    "        for i in range(1, self.m + 1):\n",
    "            for j in range(1, self.n + 1):\n",
    "                # Voir slide 63 (L3 alignement de séquences)\n",
    "                self.V[i][j] = max(\n",
    "                    self.S[i - 1][j] + OPENING_GAP_PENALTY + EXTENDING_GAP_PENALTY, # before = alignment and now = gap\n",
    "                    # self.S[i - 1][j] + OPENING_GAP_PENALTY, # before = alignment and now = gap\n",
    "                    # self.S[i - 1][j] - 1, # before = alignment and now = gap\n",
    "                    self.V[i - 1][j] + EXTENDING_GAP_PENALTY # before = gap and now = gap\n",
    "                )\n",
    "\n",
    "                self.W[i][j] = max(\n",
    "                    self.S[i][j - 1] + OPENING_GAP_PENALTY + EXTENDING_GAP_PENALTY, # before = alignment and now = gap\n",
    "                    # self.S[i][j - 1] + OPENING_GAP_PENALTY, # before = alignment and now = gap\n",
    "                    # self.S[i][j - 1] - 1, # before = alignment and now = gap\n",
    "                    self.W[i][j - 1] + EXTENDING_GAP_PENALTY # before = gap and now = gap\n",
    "                )\n",
    "            \n",
    "                self.S[i][j] = max(\n",
    "                    self.S[i - 1][j - 1] + scoringMatrix[self.seq1[i - 1]][self.seq2[j - 1]], # alignment = diagonal\n",
    "                    self.V[i][j], # gap in Sequence A = top\n",
    "                    self.W[i][j]  # gap in Sequence B = left\n",
    "                ) \n",
    "    \n",
    "        self._NW(\"\", \"\", self.m, self.n)\n",
    "        \n",
    "    def __repr__(self):\n",
    "        ret = \"\"\n",
    "        for i in range(0, len(self.result)):\n",
    "            ret += \"%s\\n\" % (self.result[i][0]) # seq1\n",
    "            identity = 0\n",
    "            similarity = 0\n",
    "            gap = 0\n",
    "            \n",
    "            for j in range(0, len(self.result[i][0])):\n",
    "                if (self.result[i][0][j] == self.result[i][1][j]): # identiy\n",
    "                    ret += ':'\n",
    "                    identity += 1\n",
    "                    similarity += 1\n",
    "                elif (self.result[i][0][j] == '-' or self.result[i][1][j] == '-'): # gap\n",
    "                    ret += ' '\n",
    "                    gap += 1\n",
    "                else: # similarity\n",
    "                    ret += '.'\n",
    "                    similarity += 1\n",
    "            ret += \"\\n\"\n",
    "            ret += \"%s\\n\" % (self.result[i][1]) # seq2\n",
    "            ret += \"%3.3f%% identity\\n\" % (100 * identity / len(self.result[i][0]))\n",
    "            ret += \"%3.3f%% similarity\\n\" % (100 * similarity / len(self.result[i][0]))\n",
    "            ret += \"%3.3f%% gap\\n\"  % (100 * gap / len(self.result[i][0]))\n",
    "            ret += \"Length : %i\\n\" % (len(self.result[i][0]))\n",
    "            ret += \"Global score : %s\\n\" % (self.S[self.m][self.n])\n",
    "        return ret\n",
    "\n",
    "        \n",
    "    def _NW(self, align1, align2, i, j):\n",
    "        \"\"\"\n",
    "        \"\"\"\n",
    "        if (i > 0 and j > 0) and (self.S[i][j] == self.S[i - 1][j - 1] + self.scoringMatrix[self.seq1[i - 1]][self.seq2[j - 1]]):\n",
    "            self._NW(self.seq1[i - 1] + align1, self.seq2[j - 1] + align2, i - 1, j - 1)\n",
    "        elif (i > 0) and (self.S[i][j] == self.V[i][j]):\n",
    "            self._NW(self.seq1[i - 1] + align1, \"-\" + align2, i - 1, j)\n",
    "        elif (j > 0) and (self.S[i][j] == self.W[i][j]):\n",
    "            self._NW(\"-\" + align1, self.seq2[j - 1] + align2, i, j - 1)\n",
    "        else:\n",
    "            # end of backtracking : we are back in S[0][0]\n",
    "            self.result.append((align1, align2))"
   ]
  },
  {
   "cell_type": "markdown",
   "metadata": {},
   "source": [
    "Vérifiez si votre programme donne le même résultat que l’outil LALIGN http://www.ch.embnet.org/software/LALIGN_form.html\n",
    "\n",
    "Utilisez les séquences dans le fichier SH3-sequences.fasta sur le site web.        "
   ]
  },
  {
   "cell_type": "code",
   "execution_count": 90,
   "metadata": {
    "collapsed": false,
    "scrolled": false
   },
   "outputs": [
    {
     "name": "stdout",
     "output_type": "stream",
     "text": [
      "GGVTTFVALYDYESRTETDLSFKKGERLQIVNNTEGDWWLAHSLSTGQTGYIPSNYVAPSDS\n",
      " .  ...:.::........::::.:..:...:......:....: .:..:.::.::......\n",
      "-M--EAIAKYDFKATADDELSFKRGDILKVLNEECDQNWYKAEL-NGKDGFIPKNYIEMKPH\n",
      "29.032% identity\n",
      "93.548% similarity\n",
      "6.452% gap\n",
      "Length : 62\n",
      "Global score : 59\n",
      "\n"
     ]
    }
   ],
   "source": [
    "scoringMatrix = blosum80\n",
    "print(NeedlemanWunsch(sh3sequence[0], sh3sequence[1],scoringMatrix))"
   ]
  },
  {
   "cell_type": "markdown",
   "metadata": {},
   "source": [
    "Le résultat avec _LALIGN_ est le suivant:\n",
    "\n",
    "```\n",
    "lobal/global (N-W) score: 114; 30.2% identity (61.9% similar) in 63 aa overlap (1-60:1-58)\n",
    "\n",
    "               10        20        30         40        50          60         \n",
    "unknow GGVTTFVALYDYESRTETDLSFKKGERLQIVNNT-EGDWWLAHSLSTGQTGYIPSNYV--APS\n",
    "             .: ::... .. .::::.:. :...:   . .:. :.   .:. :.:: ::.   :\n",
    "unknow ---MEAIAKYDFKATADDELSFKRGDILKVLNEECDQNWYKAEL--NGKDGFIPKNYIEMKPH\n",
    "                  10        20        30        40          50     \n",
    "```"
   ]
  },
  {
   "cell_type": "code",
   "execution_count": 94,
   "metadata": {
    "collapsed": false
   },
   "outputs": [
    {
     "name": "stdout",
     "output_type": "stream",
     "text": [
      "GGVTTFVALYDYESRTETDLSFKKGERLQIVNNTEGDWWLAHSLSTGQTGYIPSNYVAPSDS\n",
      " . .. .:.::........::::.:..:...:......:....:. :..:.::.::......\n",
      "-M-EA-IAKYDFKATADDELSFKRGDILKVLNEECDQNWYKAELN-GKDGFIPKNYIEMKPH\n",
      "29.032% identity\n",
      "93.548% similarity\n",
      "6.452% gap\n",
      "Length : 62\n",
      "Global score : 57\n",
      "\n"
     ]
    }
   ],
   "source": [
    "scoringMatrix = pam120\n",
    "print(NeedlemanWunsch(sh3sequence[0], sh3sequence[1], scoringMatrix))"
   ]
  },
  {
   "cell_type": "markdown",
   "metadata": {},
   "source": [
    "Résultat de _LALIGN_\n",
    "\n",
    "```\n",
    " n-w opt:  57  Z-score: 157.8  bits: 32.6 E(1): 2.1e-27\n",
    "global/global (N-W) score: 57; 29.0% identity (61.3% similar) in 62 aa overlap (1-62:1-58)\n",
    "\n",
    "               10        20        30        40        50        60\n",
    "unknow GGVTTFVALYDYESRTETDLSFKKGERLQIVNNTEGDWWLAHSLSTGQTGYIPSNYVAPSDS\n",
    "         .   .: ::. . .. .::::.:. :...:.  .. :    :. :. :.:: ::..  \n",
    "unknow MEA---IAKYDFKATADDELSFKRGDILKVLNEECDQNWYKAELN-GKDGFIPKNYIEMKPH\n",
    "                  10        20        30        40         50               \n",
    "```"
   ]
  },
  {
   "cell_type": "markdown",
   "metadata": {},
   "source": [
    "## Partie 1.3\n",
    "\n",
    "Modifiez le logiciel de la partie 1.2 de sorte que on peut faire un alignement local (Smith‐Waterman). Utilisez les séquences dans le fichier maguk-sequences.fasta sur le site web. Retrouvez les similarités entre les 4 séquences.\n",
    "Expliquez les similarités. Plus d’informations concernant les protéines dans le fichier .fasta peuvent être trouvées sur le site UniProt (http://www.uniprot.org/)."
   ]
  },
  {
   "cell_type": "code",
   "execution_count": 91,
   "metadata": {
    "collapsed": true
   },
   "outputs": [],
   "source": [
    "class SmithWaterman:\n",
    "    def __init__(self, seq1, seq2, scoringMatrix):\n",
    "        self.seq1 = seq1\n",
    "        self.seq2 = seq2\n",
    "        self.scoringMatrix = scoringMatrix\n",
    "        self.result = []\n",
    "        \n",
    "        self.m = len(seq1)\n",
    "        self.n = len(seq2)\n",
    "        \n",
    "        self.max = [self.m, self.n]\n",
    "        \n",
    "        self.S = init_matrix(self.m, self.n)\n",
    "        self.V = init_matrix(self.m, self.n)\n",
    "        self.W = init_matrix(self.m, self.n)\n",
    "        \n",
    "        # Remplit les matrices en utilisant les formules vue dans les slides du cour.\n",
    "        for i in range(1, self.m + 1):\n",
    "            for j in range(1, self.n + 1):\n",
    "                # Voir slide 63 (L3 alignement de séquences)\n",
    "                self.V[i][j] = max(\n",
    "                    self.S[i - 1][j] + OPENING_GAP_PENALTY + EXTENDING_GAP_PENALTY, # before = alignment and now = gap\n",
    "                    self.V[i - 1][j] + EXTENDING_GAP_PENALTY # before = gap and now = gap\n",
    "                )\n",
    "\n",
    "                self.W[i][j] = max(\n",
    "                    self.S[i][j - 1] + OPENING_GAP_PENALTY + EXTENDING_GAP_PENALTY, # before = alignment and now = gap\n",
    "                    self.W[i][j - 1] + EXTENDING_GAP_PENALTY # before = gap and now = gap\n",
    "                )\n",
    "            \n",
    "                self.S[i][j] = max(\n",
    "                    self.S[i - 1][j - 1] + scoringMatrix[self.seq1[i - 1]][self.seq2[j - 1]], # alignment = diagonal\n",
    "                    self.V[i][j], # gap in Sequence A = top\n",
    "                    self.W[i][j],  # gap in Sequence B = left\n",
    "                    0 # Toutes les valeurs négatives sont mise à 0.\n",
    "                ) \n",
    "\n",
    "                if (self.S[i][j] > self.S[self.max[0]][self.max[1]]):\n",
    "                    self.max = [i, j]\n",
    "    \n",
    "        self._SW(\"\", \"\", self.m, self.n)\n",
    "        \n",
    "    def __repr__(self):\n",
    "        ret = \"\"\n",
    "        for i in range(0, len(self.result)):\n",
    "            ret += \"%s\\n\" % (self.result[i][0]) # seq1\n",
    "            identity = 0\n",
    "            similarity = 0\n",
    "            gap = 0\n",
    "            for j in range(0, len(self.result[i][0])):\n",
    "                if (self.result[i][0][j] == self.result[i][1][j]): # identiy\n",
    "                    ret += ':'\n",
    "                    identity += 1\n",
    "                    similarity += 1\n",
    "                elif (self.result[i][0][j] == '-' or self.result[i][1][j] == '-'): # gap\n",
    "                    ret += ' '\n",
    "                    gap += 1\n",
    "                else:\n",
    "                    ret += '.'\n",
    "                    similarity += 1\n",
    "            ret += \"\\n\"\n",
    "            ret += \"%s\\n\" % (self.result[i][1]) # seq2\n",
    "            ret += \"%3.3f%% identity\\n\" % (100 * identity / len(self.result[i][0]))\n",
    "            ret += \"%3.3f%% similarity\\n\" % (100 * similarity / len(self.result[i][0]))\n",
    "            ret += \"%3.3f%% gap\\n\"  % (100 * gap / len(self.result[i][0]))\n",
    "            ret += \"Length : %i\\n\" % (len(self.result[i][0]))\n",
    "            ret += \"Global score : %s\\n\" % (self.S[self.max[0]][self.max[1]])\n",
    "        return ret\n",
    "\n",
    "        \n",
    "    def _SW(self, align1, align2, i, j):\n",
    "        \"\"\"\n",
    "        \"\"\"\n",
    "        # print(\"---\\nALIGN1: %s\\nALIGN2: %s\\n---\" % (align1, align2))\n",
    "        if (i > 0 and j > 0) and (self.S[i][j] > 0):\n",
    "            if self.S[i][j] == self.S[i - 1][j - 1] + self.scoringMatrix[self.seq1[i - 1]][self.seq2[j - 1]]:\n",
    "                # Vérification par apport à la diagonale.\n",
    "                self._SW(self.seq1[i - 1] + align1, self.seq2[j - 1] + align2, i - 1, j - 1)\n",
    "            elif self.S[i][j] == self.V[i][j]:\n",
    "                # Vérification par apport à la gauche: trous dans seq2\n",
    "                self._SW(self.seq1[i - 1] + align1, \"-\" + align2, i - 1, j)\n",
    "            elif self.S[i][j] == self.W[i][j]:\n",
    "                # Vérification par apport au dessus: trous sequ1\n",
    "                self._SW(\"-\" + align1, self.seq2[j - 1] + align2, i, j - 1)\n",
    "\n",
    "        else:\n",
    "            self.result.append((align1, align2))"
   ]
  },
  {
   "cell_type": "code",
   "execution_count": 92,
   "metadata": {
    "collapsed": false
   },
   "outputs": [
    {
     "name": "stdout",
     "output_type": "stream",
     "text": [
      "SHSHISPIKPTEA-VLPSPPTVPVIPVLPVPAENTVIL-PTIPQANPPPVLVNTDSLETPTYVNGTDADYEYEEITLERGNSGLGFSIAGGTDNPHIGDDSSIFITKIITGGAAAQDGRLRVNDCILRVNEVDVRDVTHSKAVEALKEAGSIVRLYVKRRKPVSEKIMEIKLIKGPKGLGFSIAGGVGNQHIPGDNSIYVTKIIEGGAAHKDGKLQIGDKLLAVNNVCLEEVTHEEAVTALKNTSDFVYLKVAKPTSMYMNDGYAPPDITNSSSQPVDNHVS-PSS--FLG---------QTPA-SPARYSPVSKAVLGDDEITREPRKVVLHRGSTGLGFNIVGGEDGEGIFISFILAGGPADLSGELRKGDRIISVNSVDLRAASHEQAAAALKNAGQAVTIVAQYRPEEYSRFEAKIHDLREQMMNSSISSGSGSLRTSQKRSLYVRALFDYDKTKDSGLPSQGLNFKFGDILHVINASDDEWWQARQVTPDGESDEVGVIPSKRRVEKKERARLKTVKFNSKTRDKGEIPDDMGSKGLKHVTSNASDSESSYRGQEEYVLSYEPVNQQEVNYTRPVIILGPMKDRINDDLISEFPDKFGSCVPHTTRPKRDYEVDGRDYHFVTSREQMEKDIQEHKFIEAGQYNNHLYGTSVQSVREVAEKGKHCILDVSGNAIKRLQIAQLYPISIFIKPKSMENIMEMNKRLTEEQARKTFERAMKLEQEFTEHFTAIVQGDTLEDIYNQVKQIIEEQSGSYIWVPAKEKL\n",
      ":.....:...:.: ..:....:...:..:::...:..: ...:...:.....:.:..:  . :::.:....::::.:::::::::::::::.::::..::..:::::::.:::::.::::.::::.::::::::..:.::.:::::::::..:::.:.::.:..:.:::..:.:::::::::::::.::::::::::::.:::::::::.:::.:::::.::::::..:..:.:::::..::::::.::::::::.:...::.:::::.........:::.: .::  .::         ..:. .:.::::.....:.....::::::..::.:::::::::::::::::::.::::::::::::::::.::::.:::.:.::.:.:::::::::.:::.::::::::::::::::.:::::::::::::.::::::::::.:::::::::::::.:.::.::::::.:..::::::::::::::::::.:::.:::...::::::.:::::::::::::::...:   :.:.......::    :..........:::...::::::..::..:.::::::::::::.:::::::::.::::::::::::.::.::::.:::::.::::::::::..:::::::.:..:::::.::::.:::.:::::::::::::::::.::::::.:::::::.:..::::.:.:.:::.:....::::::::.:.::::::::.::.:::..:::::.:::.:::::..:::\n",
      "SQAGATPTPRTKAKLIPTGRDVGPVPPKPVPGKSTPKLNGSGPSWWPECTCTNRDWYE--Q-VNGSDGMFKYEEIVLERGNSGLGFSIAGGIDNPHVPDDPGIFITKIIPGGAAAMDGRLGVNDCVLRVNEVDVSEVVHSRAVEALKEAGPVVRLVVRRRQPPPETIMEVNLLKGPKGLGFSIAGGIGNQHIPGDNSIYITKIIEGGAAQKDGRLQIGDRLLAVNNTNLQDVRHEEAVASLKNTSDMVYLKVAKPGSLHLNDMYAPPDYASTFTALADNHISHNSSLGYLGAVESKVSYPAPPQVPPTRYSPIPRHMLAEEDFTREPRKIILHKGSTGLGFNIVGGEDGEGIFVSFILAGGPADLSGELRRGDRILSVNGVNLRNATHEQAAAALKRAGQSVTIVAQYRPEEYSRFESKIHDLREQMMNSSMSSGSGSLRTSEKRSLYVRALFDYDRTRDSCLPSQGLSFSYGDILHVINASDDEWWQARLVTPHGESEQIGVIPSKKRVEKKERARLKTVKFHART---GMIESNRDFPGL----SDDYYGAKNLKGQEDAILSYEPVTRQEIHYARPVIILGPMKDRVNDDLISEFPHKFGSCVPHTTRPRRDNEVDGQDYHFVVSREQMEKDIQDNKFIEAGQFNDNLYGTSIQSVRAVAERGKHCILDVSGNAIKRLQQAQLYPIAIFIKPKSIEALMEMNRRQTYEQANKIYDKAMKLEQEFGEYFTAIVQGDSLEEIYNKIKQIIEDQSGHYIWVPSPEKL\n",
      "69.622% identity\n",
      "96.741% similarity\n",
      "3.259% gap\n",
      "Length : 767\n",
      "Global score : 2851\n",
      "\n"
     ]
    }
   ],
   "source": [
    "import sys\n",
    "sys.setrecursionlimit(10000)\n",
    "\n",
    "scoringMatrix = blosum80\n",
    "\n",
    "print(SmithWaterman(maguk[0], maguk[1], scoringMatrix))\n",
    "\n",
    "#for seq1 in maguk:\n",
    "#    for seq2 in maguk:\n",
    "#        if seq1 != seq2:\n",
    "#            print(SmithWaterman(seq1, seq2, scoringMatrix))"
   ]
  },
  {
   "cell_type": "code",
   "execution_count": null,
   "metadata": {
    "collapsed": true
   },
   "outputs": [],
   "source": []
  }
 ],
 "metadata": {
  "kernelspec": {
   "display_name": "Python 3",
   "language": "python",
   "name": "python3"
  },
  "language_info": {
   "codemirror_mode": {
    "name": "ipython",
    "version": 3
   },
   "file_extension": ".py",
   "mimetype": "text/x-python",
   "name": "python",
   "nbconvert_exporter": "python",
   "pygments_lexer": "ipython3",
   "version": "3.5.2"
  }
 },
 "nbformat": 4,
 "nbformat_minor": 1
}
