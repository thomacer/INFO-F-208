{
 "cells": [
  {
   "cell_type": "markdown",
   "metadata": {
    "collapsed": true
   },
   "source": [
    "# INFO-F-208\n",
    "\n",
    "## Partie 1.1\n",
    "\n",
    "Avant d'implémenter un algorithme qui calcule l’alignement entre deux séquences, vous implémentez deux ADT (Abstract Data Type):    \n",
    "\n",
    "* Un ADT séquence qui représente une séquence d’acides aminés et tous les opérations qu’on peut exécuter sur une séquence."
   ]
  },
  {
   "cell_type": "code",
   "execution_count": 2,
   "metadata": {
    "collapsed": true
   },
   "outputs": [],
   "source": [
    "class Sequence(str):\n",
    "    \"\"\"\n",
    "    ADT séquence qui représente une séquence d’acides aminés\n",
    "    et tous les opérations qu’on peut exécuter sur une séquence.\n",
    "    \"\"\"\n",
    "    def __init__(self, sequence):\n",
    "        self.sequence = sequence\n",
    "    \n",
    "    def __repr__(self):\n",
    "        return self.sequence\n",
    "    \n",
    "    def __getitem__(self, index):\n",
    "        \"\"\"\n",
    "        @desc: Permet d'interpreter la classe comme une \"String\".\n",
    "        \n",
    "        @param{index}: Index de la lettre qu'on veut consulter.\n",
    "        \"\"\"\n",
    "        return self.sequence[index]\n",
    "\n",
    "    @staticmethod\n",
    "    def load(filename):\n",
    "        \"\"\"\n",
    "        \"\"\"\n",
    "        with open(filename) as f:\n",
    "            seq = \"\"\n",
    "            for line in f:\n",
    "                if line[0] == \">\":\n",
    "                    if seq:\n",
    "                        yield Sequence(seq)\n",
    "                    seq = \"\"\n",
    "                else:\n",
    "                    seq += line[:-1] # Not including '\\n'\n",
    "                    \n",
    "            if (seq):\n",
    "                yield Sequence(seq)"
   ]
  },
  {
   "cell_type": "code",
   "execution_count": 4,
   "metadata": {
    "collapsed": false
   },
   "outputs": [],
   "source": [
    "sh3sequence = [seq for seq in Sequence.load(\"./SH3-sequence.fasta\")]\n",
    "maguk = [seq for seq in Sequence.load(\"./maguk-sequences.fasta\")]"
   ]
  },
  {
   "cell_type": "markdown",
   "metadata": {},
   "source": [
    "* Un ADT score qui représente une matrice de substitution et les opérations qu’on peut exécuter sur cette matrice."
   ]
  },
  {
   "cell_type": "code",
   "execution_count": 20,
   "metadata": {
    "collapsed": false
   },
   "outputs": [],
   "source": [
    "class _ScoreLine:\n",
    "    \"\"\"\n",
    "    \"\"\"\n",
    "    def __init__(self, line, indexes):\n",
    "        self.line = line\n",
    "        self.indexes = indexes\n",
    "    \n",
    "    def __getitem__(self, letter):\n",
    "        j = self.indexes.index(letter)\n",
    "        return self.line[j]\n",
    "\n",
    "class Score:\n",
    "    INDEXES = \"ARNDCQEGHILKMFPSTWYV\"\n",
    "    def __init__(self, matrix = [[]], indexes = INDEXES):\n",
    "        self.matrix = matrix\n",
    "        self.indexes = indexes\n",
    "        \n",
    "    def __getitem__(self, letter): \n",
    "        \"\"\"\n",
    "        @desc: Get the score for a tuple of Acids\n",
    "        \n",
    "        @param{index}: Tuple of acids.\n",
    "        @ex: Score['A']['Q']\n",
    "        \"\"\"\n",
    "        i = self.indexes.index(letter)\n",
    "        return _ScoreLine(self.matrix[i], self.indexes)\n",
    "\n",
    "    def __repr__(self):\n",
    "        ret = \"  \"\n",
    "        for char in self.indexes:\n",
    "            ret += ' ' + char + ' '\n",
    "        ret += '\\n'\n",
    "        i = 0\n",
    "        for line in self.matrix:\n",
    "            ret += self.indexes[i] + ' '\n",
    "            i+=1\n",
    "            for char in line:\n",
    "                if (char >= 0):\n",
    "                    ret += ' '\n",
    "                ret += str(char) + ' '\n",
    "            ret += '\\n'\n",
    "\n",
    "            return ret\n",
    "    \n",
    "    @staticmethod\n",
    "    def load(filename):\n",
    "        f = open(filename)\n",
    "        matrix = []\n",
    "        indexes = Score.INDEXES\n",
    "        for line in f:\n",
    "            if line[0] == '#':\n",
    "                pass\n",
    "            elif line[0] == ' ' or line[0] == '\\t':\n",
    "                indexes = line.split()\n",
    "            elif line[0].isalpha() or line[0] == '*' or line[0] == '-':\n",
    "                l = line[1:]\n",
    "                matrix.append(list(map(int, l.split())))\n",
    "        f.close()\n",
    "        assert(len(indexes) == 24)\n",
    "        assert(len(matrix) == len(indexes))\n",
    "        return Score(matrix, indexes)"
   ]
  },
  {
   "cell_type": "markdown",
   "metadata": {},
   "source": [
    "# Implémentation de l'algorithme de Needleman-Wunsch\n",
    "\n",
    "En utilisant les ADT construits pendant l'étape précédente, vous implémentez en Python l’algorithme Needleman‐Wunsch qui calcule l’alignement global en utilisant la pénalité affine."
   ]
  },
  {
   "cell_type": "code",
   "execution_count": 21,
   "metadata": {
    "collapsed": true
   },
   "outputs": [],
   "source": [
    "# Score returned for matching letters.\n",
    "MATCH_SCORE = 10\n",
    "# Penality for mismatching letters\n",
    "MISMATCH_PENALITY = -5\n",
    "# When aligning sequences there are often gaps (i.e. indels), sometimes large ones.\n",
    "# Biologically, a large gap is more likely to occur as one large deletion as opposed\n",
    "# to multiple single deletions. Hence we should score two small indels to be worse\n",
    "# than one large one. The simple and common way to do this is via a large gap-start\n",
    "# score for a new indel and a smaller gap-extension score for every letter which \n",
    "# extends the indel. For example, new-indel may cost -5 and extend-indel may cost -1.\n",
    "#\n",
    "# Source: Wikipedia\n",
    "GAP_PENALITY = -5\n",
    "\n",
    "GAP_START = 5"
   ]
  },
  {
   "cell_type": "code",
   "execution_count": 22,
   "metadata": {
    "collapsed": true
   },
   "outputs": [],
   "source": [
    "def init_matrix(x, y):\n",
    "    \"\"\"\n",
    "    Initialize the matrix with zeros and a column of base score.\n",
    "    \"\"\"\n",
    "    return [[(GAP_PENALITY * i + GAP_PENALITY * j) if (i == 0 or j == 0) else 0 for j in range(y + 1)] for i in range(x + 1)]"
   ]
  },
  {
   "cell_type": "code",
   "execution_count": 23,
   "metadata": {
    "collapsed": false,
    "scrolled": true
   },
   "outputs": [
    {
     "name": "stdout",
     "output_type": "stream",
     "text": [
      "   A  R  N  D  C  Q  E  G  H  I  L  K  M  F  P  S  T  W  Y  V  B  Z  X  * \n",
      "A  5 -2 -2 -2 -1 -1 -1  0 -2 -2 -2 -1 -1 -3 -1  1  0 -3 -2  0 -2 -1 -1 -6 \n",
      "\n"
     ]
    }
   ],
   "source": [
    "score = Score.load('./blosum80.txt')\n",
    "print(score)"
   ]
  },
  {
   "cell_type": "code",
   "execution_count": 24,
   "metadata": {
    "collapsed": false
   },
   "outputs": [],
   "source": [
    "class NeedlemanWunsch:\n",
    "    def __init__(self, seq1, seq2, scoringMatrix):\n",
    "        self.seq1 = seq1\n",
    "        self.seq2 = seq2\n",
    "        self.scoringMatrix = scoringMatrix\n",
    "        self.result = []\n",
    "        \n",
    "        self.m = len(seq1)\n",
    "        self.n = len(seq2)\n",
    "        \n",
    "        self.S = init_matrix(self.m, self.n)\n",
    "        self.V = init_matrix(self.m, self.n)\n",
    "        self.W = init_matrix(self.m, self.n)\n",
    "        \n",
    "        # Remplit les matrices en utilisant les formules vue dans les slides du cour.\n",
    "        for i in range(1, self.m + 1):\n",
    "            for j in range(1, self.n + 1):\n",
    "                # Voir slide 63 (L3 alignement de séquences)\n",
    "                self.V[i][j] = max(\n",
    "                    self.S[i - 1][j] - 1,          # before = alignment and now = gap\n",
    "                    self.V[i - 1][j] + GAP_PENALITY # before = gap and now = gap\n",
    "                )\n",
    "\n",
    "                self.W[i][j] = max(\n",
    "                    self.S[i][j - 1] - 1,          # before = alignment and now = gap\n",
    "                    self.W[i][j - 1] + GAP_PENALITY # before = gap and now = gap\n",
    "                )\n",
    "            \n",
    "                self.S[i][j] = max(\n",
    "                    self.S[i - 1][j - 1] + scoringMatrix[self.seq1[i - 1]][self.seq2[j - 1]], # alignment = diagonal\n",
    "                    self.V[i][j], # gap in Sequence A = top\n",
    "                    self.W[i][j]  # gap in Sequence B = left\n",
    "                ) \n",
    "    \n",
    "        self._NW(\"\", \"\", self.m, self.n)\n",
    "        \n",
    "    def __repr__(self):\n",
    "        ret = \"\"\n",
    "        for i in range(0, len(self.result)):\n",
    "            ret += \"%s\\n\" % (self.result[i][0]) # seq1\n",
    "            identity = 0\n",
    "            similarity = 0\n",
    "            gap = 0\n",
    "            # lalign style notation \":\" for identity, \".\" for similarity, \" \" for a gap\n",
    "            for j in range(0, len(self.result[i][0])):\n",
    "                if (self.result[i][0][j] == self.result[i][1][j]): # identiy\n",
    "                    ret += ':'\n",
    "                    identity += 1\n",
    "                    similarity += 1\n",
    "                elif (self.result[i][0][j] == '-' or self.result[i][1][j] == '-'): # gap\n",
    "                    ret += ' '\n",
    "                    gap += 1\n",
    "                else: # similarity\n",
    "                    ret += '.'\n",
    "                    similarity += 1\n",
    "            ret += \"\\n\"\n",
    "            ret += \"%s\\n\" % (self.result[i][1]) # seq2\n",
    "            ret += \"%3.3f%% identity\\n\" % (100 * identity / len(self.result[i][0]))\n",
    "            ret += \"%3.3f%% similarity\\n\" % (100 * similarity / len(self.result[i][0]))\n",
    "            ret += \"%3.3f%% gap\\n\"  % (100 * gap / len(self.result[i][0]))\n",
    "            ret += \"Length : %i\\n\" % (len(self.result[i][0]))\n",
    "            ret += \"Global score : %s\\n\" % (self.S[self.m][self.n])\n",
    "        return ret\n",
    "\n",
    "        \n",
    "    def _NW(self, align1, align2, i, j):\n",
    "        \"\"\"\n",
    "        \"\"\"\n",
    "        # print(\"---\\nALIGN1: %s\\nALIGN2: %s\\n---\" % (align1, align2))\n",
    "        if i > 0 and j > 0:\n",
    "            if self.S[i][j] == self.S[i - 1][j - 1] + self.scoringMatrix[self.seq1[i - 1]][self.seq2[j - 1]]:\n",
    "                self._NW(self.seq1[i - 1] + align1, self.seq2[j - 1] + align2, i - 1, j - 1)\n",
    "            elif self.S[i][j] == self.V[i][j]:\n",
    "                self._NW(self.seq1[i - 1] + align1, \"-\" + align2, i - 1, j)\n",
    "            elif self.S[i][j] == self.W[i][j]:\n",
    "                self._NW(\"-\" + align1, self.seq2[j - 1] + align2, i, j - 1)\n",
    "\n",
    "        # end of backtracking : we are back in S[0][0]\n",
    "        else:\n",
    "            self.result.append((align1, align2))"
   ]
  },
  {
   "cell_type": "code",
   "execution_count": 25,
   "metadata": {
    "collapsed": false
   },
   "outputs": [
    {
     "name": "stdout",
     "output_type": "stream",
     "text": [
      "GGVTTFVA-LYDYESRT-ETD-LSFKKGE-RLQIVNNTE-GD--WW-LAHSLSTGQTGYIPSNYV--APS\n",
      ".  .. .:  ::... : . : ::::.:.  :... :.:  :  :.  : .: .:..:.::.::.  .:.\n",
      "M--EA-IAK-YDFKA-TAD-DELSFKRGDI-LKVL-NEEC-DQNWYK-A-EL-NGKDGFIPKNYIEMKPH\n",
      "34.286% identity\n",
      "68.571% similarity\n",
      "31.429% gap\n",
      "Length : 70\n",
      "Global score : 137\n",
      "\n"
     ]
    }
   ],
   "source": [
    "print(NeedlemanWunsch('GGVTTFVALYDYESRTETDLSFKKGERLQIVNNTEGDWWLAHSLSTGQTGYIPSNYVAPS',\n",
    "        'MEAIAKYDFKATADDELSFKRGDILKVLNEECDQNWYKAELNGKDGFIPKNYIEMKPH',\n",
    "        score\n",
    "))"
   ]
  },
  {
   "cell_type": "markdown",
   "metadata": {},
   "source": [
    "## Partie 1.3\n",
    "\n",
    "Modifiez le logiciel de la partie 1.2 de sorte que on peut faire un alignement local (Smith‐Waterman). Utilisez les séquences dans le fichier maguk-sequences.fasta sur le site web. Retrouvez les similarités entre les 4 séquences.\n",
    "Expliquez les similarités. Plus d’informations concernant les protéines dans le fichier .fasta peuvent être trouvées sur le site UniProt (http://www.uniprot.org/)."
   ]
  },
  {
   "cell_type": "code",
   "execution_count": 26,
   "metadata": {
    "collapsed": true
   },
   "outputs": [],
   "source": [
    "class SmithWaterman:\n",
    "    def __init__(self, seq1, seq2, scoringMatrix):\n",
    "        self.seq1 = seq1\n",
    "        self.seq2 = seq2\n",
    "        self.scoringMatrix = scoringMatrix\n",
    "        self.result = []\n",
    "        \n",
    "        self.m = len(seq1)\n",
    "        self.n = len(seq2)\n",
    "        \n",
    "        self.max = [self.m, self.n]\n",
    "        \n",
    "        self.S = init_matrix(self.m, self.n)\n",
    "        self.V = init_matrix(self.m, self.n)\n",
    "        self.W = init_matrix(self.m, self.n)\n",
    "        \n",
    "        # Remplit les matrices en utilisant les formules vue dans les slides du cour.\n",
    "        for i in range(1, self.m + 1):\n",
    "            for j in range(1, self.n + 1):\n",
    "                # Voir slide 63 (L3 alignement de séquences)\n",
    "                self.V[i][j] = max(\n",
    "                    self.S[i - 1][j] - 1,          # before = alignment and now = gap\n",
    "                    self.V[i - 1][j] + GAP_PENALITY # before = gap and now = gap\n",
    "                )\n",
    "\n",
    "                self.W[i][j] = max(\n",
    "                    self.S[i][j - 1] - 1,          # before = alignment and now = gap\n",
    "                    self.W[i][j - 1] + GAP_PENALITY # before = gap and now = gap\n",
    "                )\n",
    "            \n",
    "                self.S[i][j] = max(\n",
    "                    self.S[i - 1][j - 1] + scoringMatrix[self.seq1[i - 1]][self.seq2[j - 1]], # alignment = diagonal\n",
    "                    self.V[i][j], # gap in Sequence A = top\n",
    "                    self.W[i][j],  # gap in Sequence B = left\n",
    "                    0 # Toutes les valeurs négatives sont mise à 0.\n",
    "                ) \n",
    "\n",
    "                if (self.S[i][j] > self.S[self.max[0]][self.max[1]]):\n",
    "                    self.max = [i, j]\n",
    "    \n",
    "        self._SW(\"\", \"\", self.m, self.n)\n",
    "        \n",
    "    def __repr__(self):\n",
    "        ret = \"\"\n",
    "        for i in range(0, len(self.result)):\n",
    "            ret += \"%s\\n\" % (self.result[i][0]) # seq1\n",
    "            identity = 0\n",
    "            similarity = 0\n",
    "            gap = 0\n",
    "            for j in range(0, len(self.result[i][0])):\n",
    "                if (self.result[i][0][j] == self.result[i][1][j]): # identiy\n",
    "                    ret += ':'\n",
    "                    identity += 1\n",
    "                    similarity += 1\n",
    "                elif (self.result[i][0][j] == '-' or self.result[i][1][j] == '-'): # gap\n",
    "                    ret += ' '\n",
    "                    gap += 1\n",
    "                else:\n",
    "                    ret += '.'\n",
    "                    similarity += 1\n",
    "            ret += \"\\n\"\n",
    "            ret += \"%s\\n\" % (self.result[i][1]) # seq2\n",
    "            ret += \"%3.3f%% identity\\n\" % (100 * identity / len(self.result[i][0]))\n",
    "            ret += \"%3.3f%% similarity\\n\" % (100 * similarity / len(self.result[i][0]))\n",
    "            ret += \"%3.3f%% gap\\n\"  % (100 * gap / len(self.result[i][0]))\n",
    "            ret += \"Length : %i\\n\" % (len(self.result[i][0]))\n",
    "            ret += \"Global score : %s\\n\" % (self.S[self.max[0]][self.max[1]])\n",
    "        return ret\n",
    "\n",
    "        \n",
    "    def _SW(self, align1, align2, i, j):\n",
    "        \"\"\"\n",
    "        \"\"\"\n",
    "        # print(\"---\\nALIGN1: %s\\nALIGN2: %s\\n---\" % (align1, align2))\n",
    "        if (i > 0 and j > 0) and (self.S[i][j] > 0):\n",
    "            if self.S[i][j] == self.S[i - 1][j - 1] + self.scoringMatrix[self.seq1[i - 1]][self.seq2[j - 1]]:\n",
    "                # Vérification par apport à la diagonale.\n",
    "                self._SW(self.seq1[i - 1] + align1, self.seq2[j - 1] + align2, i - 1, j - 1)\n",
    "            elif self.S[i][j] == self.V[i][j]:\n",
    "                # Vérification par apport à la gauche: trous dans seq2\n",
    "                self._SW(self.seq1[i - 1] + align1, \"-\" + align2, i - 1, j)\n",
    "            elif self.S[i][j] == self.W[i][j]:\n",
    "                # Vérification par apport au dessus: trous sequ1\n",
    "                self._SW(\"-\" + align1, self.seq2[j - 1] + align2, i, j - 1)\n",
    "\n",
    "        else:\n",
    "            self.result.append((align1, align2))"
   ]
  },
  {
   "cell_type": "code",
   "execution_count": 27,
   "metadata": {
    "collapsed": false
   },
   "outputs": [
    {
     "name": "stdout",
     "output_type": "stream",
     "text": [
      "VA-LYDYESRT-ETD-LSFKKGE-RLQIVNNTE-GD--WW-LAHSLSTGQTGYIPSNYV--APS\n",
      ".:  ::... : . : ::::.:.  :... :.:  :  :.  : .: .:..:.::.::.  .:.\n",
      "IAK-YDFKA-TAD-DELSFKRGDI-LKVL-NEEC-DQNWYK-A-EL-NGKDGFIPKNYIEMKPH\n",
      "37.500% identity\n",
      "70.312% similarity\n",
      "29.688% gap\n",
      "Length : 64\n",
      "Global score : 146\n",
      "\n"
     ]
    }
   ],
   "source": [
    "print(SmithWaterman('GGVTTFVALYDYESRTETDLSFKKGERLQIVNNTEGDWWLAHSLSTGQTGYIPSNYVAPS',\n",
    "                    'MEAIAKYDFKATADDELSFKRGDILKVLNEECDQNWYKAELNGKDGFIPKNYIEMKPH',\n",
    "                    score\n",
    "      )\n",
    ")"
   ]
  }
 ],
 "metadata": {
  "kernelspec": {
   "display_name": "Python 3",
   "language": "python",
   "name": "python3"
  },
  "language_info": {
   "codemirror_mode": {
    "name": "ipython",
    "version": 3
   },
   "file_extension": ".py",
   "mimetype": "text/x-python",
   "name": "python",
   "nbconvert_exporter": "python",
   "pygments_lexer": "ipython3",
   "version": "3.5.2"
  }
 },
 "nbformat": 4,
 "nbformat_minor": 1
}
