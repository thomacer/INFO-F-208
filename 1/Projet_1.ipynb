{
 "cells": [
  {
   "cell_type": "markdown",
   "metadata": {
    "collapsed": true
   },
   "source": [
    "# INFO-F-208\n",
    "\n",
    "# Partie 1.1\n",
    "\n",
    "Avant d'implémenter un algorithme qui calcule l’alignement entre deux séquences, vous implémentez deux ADT (Abstract Data Type):    \n"
   ]
  },
  {
   "cell_type": "markdown",
   "metadata": {},
   "source": [
    "##  Un ADT séquence\n",
    "\n",
    "Pour l'ADT _Sequence_ j'ai décidé de l'implémenter de façon à ce que son utilisation soit similaire à celle d'une _liste_ ou _string_. En effet ce qui nous interesse dedans c'est la séquence d'acide aminé qui est une suite de charactère et sera stocké en tant que _string_.\n",
    "\n",
    "De plus une fonction _load_ statique à été ajouté à cette structure de donnée pour charger les séquences depuis un fichier _.fasta_."
   ]
  },
  {
   "cell_type": "code",
   "execution_count": 2,
   "metadata": {
    "collapsed": true
   },
   "outputs": [],
   "source": [
    "class Sequence():\n",
    "    \"\"\"\n",
    "    ADT séquence qui représente une séquence d’acides aminés\n",
    "    et tous les opérations qu’on peut exécuter sur une séquence.\n",
    "    \"\"\"\n",
    "    def __init__(self, sequence):\n",
    "        self.sequence = sequence\n",
    "    \n",
    "    def __repr__(self):\n",
    "        return self.sequence\n",
    "    \n",
    "    def __len__(self):\n",
    "        return len(self.sequence)\n",
    "    \n",
    "    def __getitem__(self, index):\n",
    "        \"\"\"\n",
    "        @desc: Permet d'interpreter la classe comme une \"String\".\n",
    "        \n",
    "        @param{index}: Index de la lettre qu'on veut consulter.\n",
    "        \"\"\"\n",
    "        return self.sequence[index]\n",
    "\n",
    "    @staticmethod\n",
    "    def load(filename):\n",
    "        \"\"\"\n",
    "        \"\"\"\n",
    "        with open(filename) as f:\n",
    "            seq = \"\"\n",
    "            for line in f:\n",
    "                if line[0] == \">\":\n",
    "                    if seq:\n",
    "                        yield Sequence(seq)\n",
    "                    seq = \"\"\n",
    "                else:\n",
    "                    seq += line[:-1] # Not including '\\n'\n",
    "                    \n",
    "            if (seq):\n",
    "                yield Sequence(seq)"
   ]
  },
  {
   "cell_type": "markdown",
   "metadata": {},
   "source": [
    "On charge l'ensemble des fichiers fournis dans l'énoncé."
   ]
  },
  {
   "cell_type": "code",
   "execution_count": 3,
   "metadata": {
    "collapsed": false
   },
   "outputs": [],
   "source": [
    "sh3sequence = [seq for seq in Sequence.load(\"./SH3-sequence.fasta\")]\n",
    "maguk = [seq for seq in Sequence.load(\"./maguk-sequences.fasta\")]"
   ]
  },
  {
   "cell_type": "markdown",
   "metadata": {},
   "source": [
    "## Un ADT score qui représente une matrice de substitution et les opérations qu’on peut exécuter sur cette matrice.\n",
    "\n",
    "À la manière de la structure de donnée _Sequence_ celle-ci imite la fonctionnement d'une matrice _normal_ c'est à dire qu'on peut récupérer les valeurs comme dans dans toute les matrices à la différence près qu'on va passer des acides aminés en paramètre pour récupérer leur _score_.\n",
    "\n",
    "De plus la structure donnée inclue aussi une fonction _load_ pour charger les matrices de substitution qui nous ont été fournies dans l'énoncé."
   ]
  },
  {
   "cell_type": "code",
   "execution_count": 4,
   "metadata": {
    "collapsed": false
   },
   "outputs": [],
   "source": [
    "class _ScoreLine:\n",
    "    \"\"\"\n",
    "    ADT utilisée pour pouvoir utiliser l'ADT Score comme une matrice.\n",
    "    \"\"\"\n",
    "    def __init__(self, line, indexes):\n",
    "        self.line = line\n",
    "        self.indexes = indexes\n",
    "    \n",
    "    def __getitem__(self, letter):\n",
    "        j = self.indexes.index(letter)\n",
    "        return self.line[j]\n",
    "\n",
    "class Score:\n",
    "    INDEXES = \"ARNDCQEGHILKMFPSTWYV\"\n",
    "    def __init__(self, matrix = [[]], indexes = INDEXES):\n",
    "        self.matrix = matrix\n",
    "        self.indexes = indexes\n",
    "        \n",
    "    def __getitem__(self, letter): \n",
    "        \"\"\"\n",
    "        @desc: Renvoie le score d'une combinaison de deux acides\n",
    "        \n",
    "        @param{letter}: Le premier acide.\n",
    "        @ex: Score['A']['Q']\n",
    "        \"\"\"\n",
    "        i = self.indexes.index(letter)\n",
    "        return _ScoreLine(self.matrix[i], self.indexes)\n",
    "\n",
    "    def __repr__(self):\n",
    "        ret = \"  \"\n",
    "        for char in self.indexes:\n",
    "            ret += \" %3s \" % (char)\n",
    "        ret += '\\n'\n",
    "        i = 0\n",
    "        for line in self.matrix:\n",
    "            ret += \"%3s \" % (self.indexes[i])\n",
    "            i += 1\n",
    "            for char in line:\n",
    "                if (char >= 0):\n",
    "                    ret += ' '\n",
    "                ret += \"%3s \" % (char)\n",
    "            ret += '\\n'\n",
    "\n",
    "        return ret\n",
    "    \n",
    "    @staticmethod\n",
    "    def load(filename):\n",
    "        with open(filename) as f:\n",
    "            matrix = []\n",
    "            indexes = Score.INDEXES\n",
    "            for line in f:\n",
    "                if line[0] == ' ' or line[0] == '\\t':\n",
    "                    indexes = line.split()\n",
    "                elif (line[0].isalpha()) or (line[0] == '*') or (line[0] == '-'):\n",
    "                    l = line[1:]\n",
    "                    matrix.append(list(map(int, l.split())))\n",
    "                    \n",
    "        return Score(matrix, indexes)"
   ]
  },
  {
   "cell_type": "markdown",
   "metadata": {},
   "source": [
    "On charge les matrices"
   ]
  },
  {
   "cell_type": "code",
   "execution_count": 5,
   "metadata": {
    "collapsed": false
   },
   "outputs": [],
   "source": [
    "blosum80 = Score.load('./blosum80.txt')\n",
    "blosum62 = Score.load('./blosum62.txt')\n",
    "blosum40 = Score.load('./blosum40.txt')\n",
    "pam120 = Score.load('./pam120.txt')\n",
    "pam60 = Score.load('./pam60.txt')"
   ]
  },
  {
   "cell_type": "markdown",
   "metadata": {},
   "source": [
    "# Partie 1.2 Implémentation de l'algorithme de Needleman-Wunsch\n",
    "\n",
    "En utilisant les ADT construits pendant l'étape précédente, vous implémentez en Python l’algorithme Needleman‐Wunsch qui calcule l’alignement global en utilisant la pénalité affine."
   ]
  },
  {
   "cell_type": "code",
   "execution_count": 6,
   "metadata": {
    "collapsed": true
   },
   "outputs": [],
   "source": [
    "# OPENING_GAP_PENALTY = -12\n",
    "# EXTENDING_GAP_PENALTY = -2\n",
    "OPENING_GAP_PENALTY = -4\n",
    "EXTENDING_GAP_PENALTY = -1"
   ]
  },
  {
   "cell_type": "code",
   "execution_count": 7,
   "metadata": {
    "collapsed": false
   },
   "outputs": [],
   "source": [
    "def init_matrix(x, y):\n",
    "    \"\"\"\n",
    "    Initialize the matrix with zeros and a column of base score.\n",
    "    \"\"\"\n",
    "    result = [[0 for _ in range(y + 1)] for _ in range(x + 1)]\n",
    "    for i in range(y + 1): result[0][i] = OPENING_GAP_PENALTY + i * EXTENDING_GAP_PENALTY\n",
    "    for i in range(x + 1): result[i][0] = OPENING_GAP_PENALTY + i * EXTENDING_GAP_PENALTY\n",
    "        \n",
    "    return result"
   ]
  },
  {
   "cell_type": "code",
   "execution_count": 8,
   "metadata": {
    "collapsed": false
   },
   "outputs": [],
   "source": [
    "class NeedlemanWunsch:\n",
    "    def __init__(self, seq1, seq2, scoringMatrix):\n",
    "        self.seq1 = seq1\n",
    "        self.seq2 = seq2\n",
    "        self.scoringMatrix = scoringMatrix\n",
    "        self.result = []\n",
    "        \n",
    "        self.m = len(seq1)\n",
    "        self.n = len(seq2)\n",
    "        \n",
    "        self.S = init_matrix(self.m, self.n)\n",
    "        self.V = init_matrix(self.m, self.n)\n",
    "        self.W = init_matrix(self.m, self.n)\n",
    "        \n",
    "        for i in range(1, self.m + 1):\n",
    "            for j in range(1, self.n + 1):\n",
    "                # Voir slide 63 (L3 alignement de séquences)\n",
    "                self.V[i][j] = max(\n",
    "                    self.S[i - 1][j] + OPENING_GAP_PENALTY,\n",
    "                    self.V[i - 1][j] + EXTENDING_GAP_PENALTY\n",
    "                )\n",
    "\n",
    "                self.W[i][j] = max(\n",
    "                    self.S[i][j - 1] + OPENING_GAP_PENALTY,\n",
    "                    self.W[i][j - 1] + EXTENDING_GAP_PENALTY\n",
    "                )\n",
    "            \n",
    "                self.S[i][j] = max(\n",
    "                    self.S[i - 1][j - 1] + scoringMatrix[self.seq1[i - 1]][self.seq2[j - 1]],\n",
    "                    self.V[i][j],\n",
    "                    self.W[i][j] \n",
    "                ) \n",
    "    \n",
    "        self._NW(\"\", \"\", self.m, self.n)\n",
    "        \n",
    "    def __repr__(self):\n",
    "        ret = \"\"\n",
    "        for i in range(0, len(self.result)):\n",
    "            ret += \"%s\\n\" % (self.result[i][0]) # seq1\n",
    "            identity = 0\n",
    "            similarity = 0\n",
    "            gap = 0\n",
    "            \n",
    "            for j in range(0, len(self.result[i][0])):\n",
    "                a = self.result[i][0][j]\n",
    "                b = self.result[i][1][j]\n",
    "                if (a == b):\n",
    "                    ret += ':'\n",
    "                    identity += 1\n",
    "                    similarity += 1\n",
    "                elif (a != '-' and b != '-' and self.scoringMatrix[a][b] >= 0):\n",
    "                    ret += '.'\n",
    "                    similarity += 1\n",
    "                else:\n",
    "                    ret += ' '\n",
    "                    gap += 1\n",
    "            ret += \"\\n\"\n",
    "            ret += \"%s\\n\" % (self.result[i][1]) # seq2\n",
    "            ret += \"%3.3f%% identity\\n\" % (100 * identity / len(self.result[i][0]))\n",
    "            ret += \"%3.3f%% similarity\\n\" % (100 * similarity / len(self.result[i][0]))\n",
    "            ret += \"%3.3f%% gap\\n\"  % (100 * gap / len(self.result[i][0]))\n",
    "            ret += \"Length : %i\\n\" % (len(self.result[i][0]))\n",
    "            ret += \"Global score : %s\\n\" % (self.S[self.m][self.n])\n",
    "        return ret\n",
    "\n",
    "        \n",
    "    def _NW(self, align1, align2, i, j):\n",
    "        \"\"\"\n",
    "        \"\"\"\n",
    "        if (i > 0 and j > 0) and (self.S[i][j] == self.S[i - 1][j - 1] + self.scoringMatrix[self.seq1[i - 1]][self.seq2[j - 1]]):\n",
    "            # diagonal\n",
    "            self._NW(self.seq1[i - 1] + align1, self.seq2[j - 1] + align2, i - 1, j - 1)\n",
    "        elif (i > 0) and (self.S[i][j] == self.V[i][j]):\n",
    "            # top\n",
    "            self._NW(self.seq1[i - 1] + align1, \"-\" + align2, i - 1, j)\n",
    "        elif (j > 0) and (self.S[i][j] == self.W[i][j]):\n",
    "            # left\n",
    "            self._NW(\"-\" + align1, self.seq2[j - 1] + align2, i, j - 1)\n",
    "        else:\n",
    "            # end of backtracking : we are back in S[0][0]\n",
    "            self.result.append((align1, align2))\n",
    "            "
   ]
  },
  {
   "cell_type": "markdown",
   "metadata": {},
   "source": [
    "### Discussion\n",
    "\n",
    "Comme vu lors du cours, l'alignement globale se fait comme suit\n",
    "\n",
    "$$S(i,j) = max \\\n",
    "\\begin{cases}  \\\n",
    "    S(i -1, j - 1) + t(i, j)\\\\ \n",
    "    [S(i - n_{gap1}, j) + g(n_{gap1})]_{1<ngap1<i} \\\\\n",
    "    [S(i, j - n_{gap2}) + g(n_{gap2})]_{1<ngap2<j} \\\\\n",
    "\\end{cases}$$\n",
    "\n",
    "Avec $t(i, j)$ qui est la valeur dans la matrice score passé en argument.\n",
    "\n",
    "Cela peut être simplifier pour obtenir un temps d'exécution O(mn) en créant 3 matrices de la sorte:\n",
    "\n",
    "$$V(i, j) = max \\\n",
    "\\begin{cases}   \\\n",
    "    S(i-1, j) - O \\\\\n",
    "    V(i-1, j) - E \\\\\n",
    "\\end{cases}$$\n",
    "\n",
    "$$W(i, j) = max \\\n",
    "\\begin{cases}   \\\n",
    "    S(i, j-1) - O \\\\\n",
    "    W(i, j-1) - E \\\\\n",
    "\\end{cases}$$\n",
    "\n",
    "$$S(i, j) = max \\\n",
    "\\begin{cases}   \\\n",
    "    S(i-1, j-1) + t(i,j) \\\\\n",
    "    V(i, j) \\\\\n",
    "    W(i, j) \\\\\n",
    "\\end{cases}$$\n",
    "\n",
    "Qui sont aussi présente dans mon impélementation. Ces matrices prennent aussi en compte les pénalitées liées à la création ou l'extension d'un _gap_. \n",
    "\n",
    "Pour créer l'alignement, il faut visualiser l'algorithme qui doit parcourir une matrice (la matrice S qu'on a créé jsute avant) en commançant en bas à droite pour arriver en haut à gauche.\n",
    "L'algorithme doit trouver le chemin resolvant:\n",
    "\n",
    "$$S(i, j) = \\\n",
    "\\begin{cases}   \\\n",
    "    S(i-1, j-1) + t(i,j) \\\\\n",
    "    V(i, j) \\\\\n",
    "    W(i, j) \\\\\n",
    "\\end{cases}$$\n",
    "\n",
    "Si la solution est:\n",
    " * $S(i, j) = S(i-1, j-1) + t(i,j)$ on a un déplacement diagonal traduit par deux AA égaux dans les deux séquences.\n",
    " * $S(i, j) = V(i, j)$ c'est un déplacement vers le haut traduit par un _gap_.\n",
    " * $S(i, j) = W(i, j)$ c'est équivalent à un déplacement vers la droite traduit par un _gap_.\n"
   ]
  },
  {
   "cell_type": "markdown",
   "metadata": {},
   "source": [
    "#### La récursivité\n",
    "\n",
    "Mon code utilise un algorithme récursif car de cette manière on peut si on le veut facilement le changer pour obtenir toutes les solutions optimales, ce que je n'ai pas fait ici car les solutions sont la plupart du temps triviales.\n",
    "\n",
    "La méthode __NW__ doit être changée par: \n",
    "\n",
    "```\n",
    "if i == 0 and j == 0:\n",
    "    # end of backtracking : we are back in S[0][0]\n",
    "    self.result.append((align1, align2))\n",
    "    return\n",
    " \n",
    "if (i > 0 and j > 0) and (self.S[i][j] == self.S[i - 1][j - 1] + self.scoringMatrix[self.seq1[i - 1]][self.seq2[j - 1]]):\n",
    "    # diagonal\n",
    "    self._NW(self.seq1[i - 1] + align1, self.seq2[j - 1] + align2, i - 1, j - 1)\n",
    "if (i > 0) and (self.S[i][j] == self.V[i][j]):\n",
    "    # top\n",
    "    self._NW(self.seq1[i - 1] + align1, \"-\" + align2, i - 1, j)\n",
    "if (j > 0) and (self.S[i][j] == self.W[i][j]):\n",
    "    # left\n",
    "    self._NW(\"-\" + align1, self.seq2[j - 1] + align2, i, j - 1)\n",
    "```"
   ]
  },
  {
   "cell_type": "markdown",
   "metadata": {},
   "source": [
    "### Vérification\n",
    "\n",
    "Vérifiez si votre programme donne le même résultat que l’outil LALIGN http://www.ch.embnet.org/software/LALIGN_form.html\n",
    "\n",
    "Utilisez les séquences dans le fichier SH3-sequences.fasta sur le site web.        "
   ]
  },
  {
   "cell_type": "code",
   "execution_count": 9,
   "metadata": {
    "collapsed": false,
    "scrolled": false
   },
   "outputs": [
    {
     "name": "stdout",
     "output_type": "stream",
     "text": [
      "GGVTTFVALYDYESRTETD-LSFKKGERLQIVNNTEGD--WWLAHSLSTGQTGYIPSNYV--APSDS\n",
      "  . . .: ::... :  : ::::.:. :... : : :  :. : .: .:. :.:: ::.   :   \n",
      "--MEA-IAKYDFKA-TADDELSFKRGDILKVL-NEECDQNWYKA-EL-NGKDGFIPKNYIEMKP--H\n",
      "35.821% identity\n",
      "61.194% similarity\n",
      "38.806% gap\n",
      "Length : 67\n",
      "Global score : 103\n",
      "\n"
     ]
    }
   ],
   "source": [
    "print(NeedlemanWunsch(sh3sequence[0], sh3sequence[1], blosum80))"
   ]
  },
  {
   "cell_type": "markdown",
   "metadata": {},
   "source": [
    "Le résultat de _LALIGN_ est le suivant:\n",
    "\n",
    "-----------------------------------------------------------------------------------------\n",
    "\n",
    "```\n",
    "lobal/global (N-W) score: 114; 30.2% identity (61.9% similar) in 63 aa overlap (1-60:1-58)\n",
    "\n",
    "               10        20        30         40        50          60         \n",
    "unknow GGVTTFVALYDYESRTETDLSFKKGERLQIVNNT-EGDWWLAHSLSTGQTGYIPSNYV--APS\n",
    "             .: ::... .. .::::.:. :...:   . .:. :.   .:. :.:: ::.   :      19\n",
    "unknow ---MEAIAKYDFKATADDELSFKRGDILKVLNEECDQNWYKAEL--NGKDGFIPKNYIEMKPH\n",
    "                  10        20        30        40          50     \n",
    "```\n",
    "\n",
    "-----------------------------------------------------------------------------------------"
   ]
  },
  {
   "cell_type": "markdown",
   "metadata": {},
   "source": [
    "On observe donc en utilisant la matrice BLOSUM80 des résultats très similaire à _LALIGN_ avec pour résultat un pourcentage de similarité très proche, 61.194% dans mon implémentation et 61.9% pour _LALIGN_. \n",
    "Quant à l'identité elle est de 35.8% dans mon implémentation et de 30.2% pour _LALIGN_, qui s'explique par un nombre plus élevé d'AA égaux entre les deux séquences dans mon implémentation."
   ]
  },
  {
   "cell_type": "code",
   "execution_count": 10,
   "metadata": {
    "collapsed": false
   },
   "outputs": [
    {
     "name": "stdout",
     "output_type": "stream",
     "text": [
      "GGVTTFVALYDYESRTETDLSFKKGERLQIVNNTE-GD-WWLAHSLSTGQTGYIPSNYVA--PSDS\n",
      "  . . .: ::. . .. .::::.:. :...:. : .. :  :  :. :. :.:: ::..  :   \n",
      "--MEA-IAKYDFKATADDELSFKRGDILKVLNE-ECDQNWYKA-ELN-GKDGFIPKNYIEMKP--H\n",
      "31.818% identity\n",
      "63.636% similarity\n",
      "36.364% gap\n",
      "Length : 66\n",
      "Global score : 92\n",
      "\n"
     ]
    }
   ],
   "source": [
    "print(NeedlemanWunsch(sh3sequence[0], sh3sequence[1], pam120))"
   ]
  },
  {
   "cell_type": "markdown",
   "metadata": {},
   "source": [
    "### Résultat de _LALIGN_\n",
    "\n",
    "-----------------------------------------------------------------------\n",
    "\n",
    "```\n",
    " n-w opt:  57  Z-score: 157.8  bits: 32.6 E(1): 2.1e-27\n",
    "global/global (N-W) score: 57; 29.0% identity (61.3% similar) in 62 aa overlap (1-62:1-58)\n",
    "\n",
    "               10        20        30        40        50        60\n",
    "unknow GGVTTFVALYDYESRTETDLSFKKGERLQIVNNTEGDWWLAHSLSTGQTGYIPSNYVAPSDS\n",
    "         .   .: ::. . .. .::::.:. :...:.  .. :    :. :. :.:: ::..  \n",
    "unknow MEA---IAKYDFKATADDELSFKRGDILKVLNEECDQNWYKAELN-GKDGFIPKNYIEMKPH\n",
    "                  10        20        30        40         50               \n",
    "```\n",
    "\n",
    "-----------------------------------------------------------------------\n",
    "\n",
    "Ici en utilisant la matrice de score PAM120 l'algorithme donne des résultats aussi similaire de la même manière qu'en utilisant la matrice BLOSUM80."
   ]
  },
  {
   "cell_type": "markdown",
   "metadata": {},
   "source": [
    "## Partie 1.3\n",
    "\n",
    "Modifiez le logiciel de la partie 1.2 de sorte que on peut faire un alignement local (Smith‐Waterman). Utilisez les séquences dans le fichier maguk-sequences.fasta sur le site web. "
   ]
  },
  {
   "cell_type": "code",
   "execution_count": 11,
   "metadata": {
    "collapsed": true
   },
   "outputs": [],
   "source": [
    "class SmithWaterman:\n",
    "    def __init__(self, seq1, seq2, scoringMatrix, number = 1):\n",
    "        self.seq1 = seq1\n",
    "        self.seq2 = seq2\n",
    "        self.scoringMatrix = scoringMatrix\n",
    "        self.result = []\n",
    "        \n",
    "        self.m = len(seq1)\n",
    "        self.n = len(seq2)\n",
    "        \n",
    "        self.S = init_matrix(self.m, self.n)\n",
    "        self.V = init_matrix(self.m, self.n)\n",
    "        self.W = init_matrix(self.m, self.n)\n",
    "        \n",
    "        # Remplit les matrices en utilisant les formules vue dans les slides du cour.\n",
    "        for i in range(1, self.m + 1):\n",
    "            for j in range(1, self.n + 1):\n",
    "                # Voir slide 63 (L3 alignement de séquences)\n",
    "                self.V[i][j] = max(\n",
    "                    self.S[i - 1][j] + OPENING_GAP_PENALTY,\n",
    "                    self.V[i - 1][j] + EXTENDING_GAP_PENALTY\n",
    "                )\n",
    "\n",
    "                self.W[i][j] = max(\n",
    "                    self.S[i][j - 1] + OPENING_GAP_PENALTY,\n",
    "                    self.W[i][j - 1] + EXTENDING_GAP_PENALTY\n",
    "                )\n",
    "            \n",
    "                self.S[i][j] = max(\n",
    "                    self.S[i - 1][j - 1] + scoringMatrix[self.seq1[i - 1]][self.seq2[j - 1]],\n",
    "                    self.V[i][j],\n",
    "                    self.W[i][j],\n",
    "                ) \n",
    "    \n",
    "        self.max = list()\n",
    "        maxGen = self._find_maximum()\n",
    "        for _ in range(number):\n",
    "            x, y = next(maxGen)\n",
    "            self.max.append([x, y])\n",
    "            self._SW(\"\", \"\", x, y)\n",
    "        \n",
    "    def __repr__(self):\n",
    "        ret = \"\"\n",
    "        for i in range(0, len(self.result)):\n",
    "            ret += \"%s\\n\" % (self.result[i][0]) # seq1\n",
    "            identity = 0\n",
    "            similarity = 0\n",
    "            gap = 0\n",
    "            for j in range(0, len(self.result[i][0])):\n",
    "                a = self.result[i][0][j]\n",
    "                b = self.result[i][1][j]\n",
    "                if (a == b):\n",
    "                    ret += ':'\n",
    "                    identity += 1\n",
    "                    similarity += 1\n",
    "                elif (a != '-' and b != '-' and self.scoringMatrix[a][b] >= 0):\n",
    "                    ret += '.'\n",
    "                    similarity += 1\n",
    "                else:\n",
    "                    ret += ' '\n",
    "                    gap += 1\n",
    "            ret += \"\\n\"\n",
    "            ret += \"%s\\n\" % (self.result[i][1]) # seq2\n",
    "            ret += \"%3.3f%% identity\\n\" % (100 * identity / len(self.result[i][0]))\n",
    "            ret += \"%3.3f%% similarity\\n\" % (100 * similarity / len(self.result[i][0]))\n",
    "            ret += \"%3.3f%% gap\\n\"  % (100 * gap / len(self.result[i][0]))\n",
    "            ret += \"Length : %i\\n\" % (len(self.result[i][0]))\n",
    "            ret += \"Global score : %s\\n\" % (self.S[self.max[i][0]][self.max[i][1]])\n",
    "        return ret\n",
    "\n",
    "    def _find_maximum(self):\n",
    "        \"\"\"\n",
    "        Trouve le maximum dans la matrice\n",
    "        \"\"\"\n",
    "        low = float(\"-inf\")\n",
    "        high = float(\"+inf\")\n",
    "        current_i, current_j = self.m, self.n\n",
    "        while True:\n",
    "            low = float(\"-inf\")\n",
    "            for i, line in enumerate(self.S):\n",
    "                for j, value in enumerate(line):\n",
    "                    if (value > low) and (value < high):\n",
    "                        low = value\n",
    "                        current_i, current_j = i, j\n",
    "            high = low\n",
    "            yield current_i, current_j\n",
    "        \n",
    "    def _SW(self, align1, align2, i, j):\n",
    "        \"\"\"\n",
    "        \"\"\"\n",
    "        # print(\"---\\nALIGN1: %s\\nALIGN2: %s\\n---\" % (align1, align2))\n",
    "        if (i > 0 and j > 0) and (self.S[i][j] > 0):\n",
    "            if self.S[i][j] == self.S[i - 1][j - 1] + self.scoringMatrix[self.seq1[i - 1]][self.seq2[j - 1]]:\n",
    "                # Vérification par apport à la diagonale.\n",
    "                self._SW(self.seq1[i - 1] + align1, self.seq2[j - 1] + align2, i - 1, j - 1)\n",
    "            elif self.S[i][j] == self.V[i][j]:\n",
    "                # Vérification par apport à la gauche: trous dans seq2\n",
    "                self._SW(self.seq1[i - 1] + align1, \"-\" + align2, i - 1, j)\n",
    "            elif self.S[i][j] == self.W[i][j]:\n",
    "                # Vérification par apport au dessus: trous sequ1\n",
    "                self._SW(\"-\" + align1, self.seq2[j - 1] + align2, i, j - 1)\n",
    "\n",
    "        else:\n",
    "            self.result.append((align1, align2))"
   ]
  },
  {
   "cell_type": "markdown",
   "metadata": {},
   "source": [
    "### Discussion\n",
    "\n",
    "L'algorithme est identique au précedent à l'exception qu'il ne commence pas son _chemin_ en bas à droite de la matrice mais commence à la plus grande valeur de disponible dans la matrice. La particularité est qu'on peut faire plusieurs alignements en cherchant les autres maximum dans la matrice (implémenté en donnant un 4ème arguemnt à la matrice)"
   ]
  },
  {
   "cell_type": "markdown",
   "metadata": {},
   "source": [
    "Exemple de plusieurs alignements locaux"
   ]
  },
  {
   "cell_type": "code",
   "execution_count": 12,
   "metadata": {
    "collapsed": false
   },
   "outputs": [
    {
     "name": "stdout",
     "output_type": "stream",
     "text": [
      "DYESRTETDLSFKKGERLQIVNNTE-GD-WWLAHSLSTGQTGYIPSNYVA--P\n",
      ":. . .. .::::.:. :...:. : .. :  :  :. :. :.:: ::..  :\n",
      "DFKATADDELSFKRGDILKVLNE-ECDQNWYKA-ELN-GKDGFIPKNYIEMKP\n",
      "35.849% identity\n",
      "69.811% similarity\n",
      "30.189% gap\n",
      "Length : 53\n",
      "Global score : 99\n",
      "DYESRTETDLSFKKGERLQIVNNTE-GD-WWLAHSLSTGQTGYIPSNYV\n",
      ":. . .. .::::.:. :...:. : .. :  :  :. :. :.:: ::.\n",
      "DFKATADDELSFKRGDILKVLNE-ECDQNWYKA-ELN-GKDGFIPKNYI\n",
      "36.735% identity\n",
      "71.429% similarity\n",
      "28.571% gap\n",
      "Length : 49\n",
      "Global score : 98\n",
      "DYESRTETDLSFKKGERLQIVNNTE-GD-WWLAHSLSTGQTGYIPSNYVA--PS\n",
      ":. . .. .::::.:. :...:. : .. :  :  :. :. :.:: ::..  : \n",
      "DFKATADDELSFKRGDILKVLNE-ECDQNWYKA-ELN-GKDGFIPKNYIEMKPH\n",
      "35.185% identity\n",
      "68.519% similarity\n",
      "31.481% gap\n",
      "Length : 54\n",
      "Global score : 97\n",
      "DYESRTETDLSFKKGERLQIVNNTE-GD-WWLAHSLSTGQTGYIPSNY\n",
      ":. . .. .::::.:. :...:. : .. :  :  :. :. :.:: ::\n",
      "DFKATADDELSFKRGDILKVLNE-ECDQNWYKA-ELN-GKDGFIPKNY\n",
      "37.500% identity\n",
      "70.833% similarity\n",
      "29.167% gap\n",
      "Length : 48\n",
      "Global score : 95\n",
      "DYESRTETDLSFKKGERLQIVNNTE-GD-WWLAHSLSTGQTGYIPSNYV-\n",
      ":. . .. .::::.:. :...:. : .. :  :  :. :. :.:: ::. \n",
      "DFKATADDELSFKRGDILKVLNE-ECDQNWYKA-ELN-GKDGFIPKNYIE\n",
      "36.000% identity\n",
      "70.000% similarity\n",
      "30.000% gap\n",
      "Length : 50\n",
      "Global score : 94\n",
      "\n"
     ]
    }
   ],
   "source": [
    "print(SmithWaterman(sh3sequence[0], sh3sequence[1], pam120, 5))"
   ]
  },
  {
   "cell_type": "markdown",
   "metadata": {},
   "source": [
    "### Vérification"
   ]
  },
  {
   "cell_type": "code",
   "execution_count": 13,
   "metadata": {
    "collapsed": false
   },
   "outputs": [
    {
     "name": "stdout",
     "output_type": "stream",
     "text": [
      "VPVIPVLPVPAENTVILPTIPQANPP--PVLVNTDSLETPT----Y--VNGTDADYEYEEITLERGNSGLGFSIAGGTDNPHIGDDSSIFITKIITGGAAAQDGRLRVNDCILRVNEVDVRDVTHSKAVEALKEAGSIVRLYVKRRKPVSEKIMEIKLIKGPKGLGFSIAGGVGNQHIPGDNSIYVTKIIEGGAAHKDGKLQIGDKLLAVNNVCLEEVTHEEAVTALKNTSDFVYLKVAKPTSMYMNDGYAPPDITNSSSQPVDNHVSP-SS--FLG--------QTPA--SPARYSPVSKAVLGDDEITREPRKVVLHRGSTGLGFNIVGGEDGEGIFISFILAGGPADLSGELRKGDRIISVNSVDLRAASHEQAAAALKNAGQAVTIVAQYRPEEYSRFEAKIHDLREQMMNSSISSGSGSLRTSQKRSLYVRALFDYDKTKDSGLPSQGLNFKFGDILHVINASDDEWWQARQVTPDGESDEVGVIPSKRRVEKKERARLKTVKFNSKT------RD-KGEIPDD-MGSKGLKHVTSNASDSESSYRGQEEYVLSYEPVNQQEVNYTRPVIILGPMKDRINDDLISEFPDKFGSCVPHTTRPKRDYEVDGRDYHFVTSREQMEKDIQEHKFIEAGQYNNHLYGTSVQSVREVAEKGKHCILDVSGNAIKRLQIAQLYPISIFIKPKSMENIMEMNKRLTEEQARKTFERAMKLEQEFTEHFTAIVQGDTLEDIYNQVKQIIEEQSGSYIWVPAKEKL\n",
      "::  :  :::. .:   : .  ..:.  :     ..  : :    :  :::.:. . ::::.:::::::::::::::.::::. ::..::::::: ::::: :::: ::::.:::::::: .:.::.:::::::::..::: :.::.: .: :::..:.:::::::::::::.::::::::::::.:::::::::.:::.:::::.::::::. :..: :::::..:::::: :::::::: :. .:: ::::: ... .  .:::.:  ::  .::        ..:.  .:.::::... .:.....::::::..::.:::::::::::::::::::.::::::::::::::::.::::.:::.:.:: :.::::::::: :::.::::::::::::::::.:::::::::::::.::::::::::.:::::::::::::.:.:: ::::::.: .:::::::::::::::::: :::.:::...::::::.:::::::::::::::...:      ::  : ..::  :.:.::              :::. .::::::..::..:.::::::::::::.:::::::::.::::::::::::.:: ::::.:::::.::::::::::..:::::::.:..:::::.::::.:::.::::::::::::::::: ::::::.:::::::.: .::::.: : ::: :....:::::::: : ::::::::.::.:::..:::::.::: :::::. :::\n",
      "VP--PK-PVPGKST---PKLNGSGPSWWP-----EC--TCTNRDWYEQVNGSDGMFKYEEIVLERGNSGLGFSIAGGIDNPHVPDDPGIFITKIIPGGAAAMDGRLGVNDCVLRVNEVDVSEVVHSRAVEALKEAGPVVRLVVRRRQPPPETIMEVNLLKGPKGLGFSIAGGIGNQHIPGDNSIYITKIIEGGAAQKDGRLQIGDRLLAVNNTNLQDVRHEEAVASLKNTSDMVYLKVAKPGSLHLNDMYAPPDYASTFTALADNHISHNSSLGYLGAVESKVSYPAPPQVPPTRYSPIPRHMLAEEDFTREPRKIILHKGSTGLGFNIVGGEDGEGIFVSFILAGGPADLSGELRRGDRILSVNGVNLRNATHEQAAAALKRAGQSVTIVAQYRPEEYSRFESKIHDLREQMMNSSMSSGSGSLRTSEKRSLYVRALFDYDRTRDSCLPSQGLSFSYGDILHVINASDDEWWQARLVTPHGESEQIGVIPSKKRVEKKERARLKTVKFHARTGMIESNRDFPG-LSDDYYGAKNLK--------------GQEDAILSYEPVTRQEIHYARPVIILGPMKDRVNDDLISEFPHKFGSCVPHTTRPRRDNEVDGQDYHFVVSREQMEKDIQDNKFIEAGQFNDNLYGTSIQSVRAVAERGKHCILDVSGNAIKRLQQAQLYPIAIFIKPKSIEALMEMNRRQTYEQANKIYDKAMKLEQEFGEYFTAIVQGDSLEEIYNKIKQIIEDQSGHYIWVPSPEKL\n",
      "70.171% identity\n",
      "86.465% similarity\n",
      "13.535% gap\n",
      "Length : 761\n",
      "Global score : 2797\n",
      "\n"
     ]
    }
   ],
   "source": [
    "import sys\n",
    "sys.setrecursionlimit(10000)\n",
    "\n",
    "print(SmithWaterman(maguk[0], maguk[1], pam120))"
   ]
  },
  {
   "cell_type": "markdown",
   "metadata": {
    "collapsed": true
   },
   "source": [
    "### Résultat de LALIGN\n",
    "\n",
    "Identique en utilisant PAM120.\n",
    "\n",
    "```\n",
    " Waterman-Eggert score: 2711;  1234.7 bits; E(1) <  0\n",
    "73.0% identity (90.2% similar) in 705 aa overlap (213-904:120-817)\n",
    "\n",
    "            220       230       240       250       260       270  \n",
    "unknow VNGTDADYEYEEITLERGNSGLGFSIAGGTDNPHIGDDSSIFITKIITGGAAAQDGRLRV\n",
    "       :::.:. . ::::.:::::::::::::::.::::. ::..::::::: ::::: :::: :\n",
    "unknow VNGSDGMFKYEEIVLERGNSGLGFSIAGGIDNPHVPDDPGIFITKIIPGGAAAMDGRLGV\n",
    "     120       130       140       150       160       170         \n",
    "\n",
    "            280       290       300       310       320       330  \n",
    "unknow NDCILRVNEVDVRDVTHSKAVEALKEAGSIVRLYVKRRKPVSEKIMEIKLIKGPKGLGFS\n",
    "       :::.:::::::: .:.::.:::::::::..::: :.::.: .: :::..:.:::::::::\n",
    "unknow NDCVLRVNEVDVSEVVHSRAVEALKEAGPVVRLVVRRRQPPPETIMEVNLLKGPKGLGFS\n",
    "     180       190       200       210       220       230         \n",
    "\n",
    "            340       350       360       370       380       390  \n",
    "unknow IAGGVGNQHIPGDNSIYVTKIIEGGAAHKDGKLQIGDKLLAVNNVCLEEVTHEEAVTALK\n",
    "       ::::.::::::::::::.:::::::::.:::.:::::.::::::. :..: :::::..::\n",
    "unknow IAGGIGNQHIPGDNSIYITKIIEGGAAQKDGRLQIGDRLLAVNNTNLQDVRHEEAVASLK\n",
    "     240       250       260       270       280       290         \n",
    "\n",
    "            400       410       420       430                      \n",
    "unknow NTSDFVYLKVAKPTSMYMNDGYAPPDITNSSSQPVDNHVSPSSFLG-------------Q\n",
    "       :::: :::::::: :. .:: ::::: ... .  .:::.: .: ::             .\n",
    "unknow NTSDMVYLKVAKPGSLHLNDMYAPPDYASTFTALADNHISHNSSLGYLGAVESKVSYPAP\n",
    "     300       310       320       330       340       350         \n",
    "\n",
    "     440       450       460       470       480       490         \n",
    "unknow TPASPARYSPVSKAVLGDDEITREPRKVVLHRGSTGLGFNIVGGEDGEGIFISFILAGGP\n",
    "        ...:.::::... .:.....::::::..::.:::::::::::::::::::.::::::::\n",
    "unknow PQVPPTRYSPIPRHMLAEEDFTREPRKIILHKGSTGLGFNIVGGEDGEGIFVSFILAGGP\n",
    "     360       370       380       390       400       410         \n",
    "\n",
    "     500       510       520       530       540       550         \n",
    "unknow ADLSGELRKGDRIISVNSVDLRAASHEQAAAALKNAGQAVTIVAQYRPEEYSRFEAKIHD\n",
    "       ::::::::.::::.:::.:.:: :.::::::::: :::.::::::::::::::::.::::\n",
    "unknow ADLSGELRRGDRILSVNGVNLRNATHEQAAAALKRAGQSVTIVAQYRPEEYSRFESKIHD\n",
    "     420       430       440       450       460       470         \n",
    "\n",
    "     560       570       580       590       600       610         \n",
    "unknow LREQMMNSSISSGSGSLRTSQKRSLYVRALFDYDKTKDSGLPSQGLNFKFGDILHVINAS\n",
    "       :::::::::.::::::::::.:::::::::::::.:.:: ::::::.: .::::::::::\n",
    "unknow LREQMMNSSMSSGSGSLRTSEKRSLYVRALFDYDRTRDSCLPSQGLSFSYGDILHVINAS\n",
    "     480       490       500       510       520       530         \n",
    "\n",
    "     620       630       640       650       660       670         \n",
    "unknow DDEWWQARQVTPDGESDEVGVIPSKRRVEKKERARLKTVKFNSKTRDKGEIPDDMGSKGL\n",
    "       :::::::: :::.:::...::::::.:::::::::::::::...:   : : .. .  ::\n",
    "unknow DDEWWQARLVTPHGESEQIGVIPSKKRVEKKERARLKTVKFHART---GMIESNRDFPGL\n",
    "     540       550       560       570       580          590      \n",
    "\n",
    "     680       690       700       710       720       730         \n",
    "unknow KHVTSNASDSESSYRGQEEYVLSYEPVNQQEVNYTRPVIILGPMKDRINDDLISEFPDKF\n",
    "           :..  .. . .:::. .::::::..::..:.::::::::::::.:::::::::.::\n",
    "unknow ----SDDYYGAKNLKGQEDAILSYEPVTRQEIHYARPVIILGPMKDRVNDDLISEFPHKF\n",
    "            600       610       620       630       640       650  \n",
    "\n",
    "     740       750       760       770       780       790         \n",
    "unknow GSCVPHTTRPKRDYEVDGRDYHFVTSREQMEKDIQEHKFIEAGQYNNHLYGTSVQSVREV\n",
    "       ::::::::::.:: ::::.:::::.::::::::::..:::::::.:..:::::.::::.:\n",
    "unknow GSCVPHTTRPRRDNEVDGQDYHFVVSREQMEKDIQDNKFIEAGQFNDNLYGTSIQSVRAV\n",
    "            660       670       680       690       700       710  \n",
    "\n",
    "     800       810       820       830       840       850         \n",
    "unknow AEKGKHCILDVSGNAIKRLQIAQLYPISIFIKPKSMENIMEMNKRLTEEQARKTFERAMK\n",
    "       ::.::::::::::::::::: ::::::.:::::::.: .::::.: : ::: :....:::\n",
    "unknow AERGKHCILDVSGNAIKRLQQAQLYPIAIFIKPKSIEALMEMNRRQTYEQANKIYDKAMK\n",
    "            720       730       740       750       760       770  \n",
    "\n",
    "     860       870       880       890       900    \n",
    "unknow LEQEFTEHFTAIVQGDTLEDIYNQVKQIIEEQSGSYIWVPAKEKL\n",
    "       ::::: : ::::::::.::.:::..:::::.::: :::::. :::\n",
    "unknow LEQEFGEYFTAIVQGDSLEEIYNKIKQIIEDQSGHYIWVPSPEKL\n",
    "            780       790       800       810       \n",
    "```"
   ]
  },
  {
   "cell_type": "markdown",
   "metadata": {},
   "source": [
    "Des scores très similaires à ceux de _LALIGN_ comme pour les alignements globaux à la différence que la séquence local choisis ne correspond pas exactement, surement dû à des différence de matrice de score différentes."
   ]
  },
  {
   "cell_type": "markdown",
   "metadata": {},
   "source": [
    "##   Retrouvez les similarités entre les 4 séquences. Expliquez les similarités."
   ]
  },
  {
   "cell_type": "markdown",
   "metadata": {},
   "source": [
    "Le résultat du site uniprot est le suivant: http://www.uniprot.org/align/A20161102F725F458AC8690F874DD868E4ED79B8896EBCFO .\n",
    "Les similaritées sont dû à l'origine humaine des protéines."
   ]
  },
  {
   "cell_type": "code",
   "execution_count": null,
   "metadata": {
    "collapsed": true
   },
   "outputs": [],
   "source": []
  }
 ],
 "metadata": {
  "kernelspec": {
   "display_name": "Python 3",
   "language": "python",
   "name": "python3"
  },
  "language_info": {
   "codemirror_mode": {
    "name": "ipython",
    "version": 3
   },
   "file_extension": ".py",
   "mimetype": "text/x-python",
   "name": "python",
   "nbconvert_exporter": "python",
   "pygments_lexer": "ipython3",
   "version": "3.5.2"
  }
 },
 "nbformat": 4,
 "nbformat_minor": 1
}
