{
 "cells": [
  {
   "cell_type": "markdown",
   "metadata": {
    "collapsed": true
   },
   "source": [
    "# INFO-F-208\n",
    "\n",
    "## Partie 1.1\n",
    "\n",
    "Avant d'implémenter un algorithme qui calcule l’alignement entre deux séquences, vous implémentez deux ADT (Abstract Data Type):    \n",
    "\n",
    "* Un ADT séquence qui représente une séquence d’acides aminés et tous les opérations qu’on peut exécuter sur une séquence."
   ]
  },
  {
   "cell_type": "code",
   "execution_count": 4,
   "metadata": {
    "collapsed": true
   },
   "outputs": [],
   "source": [
    "class Sequence():\n",
    "    \"\"\"\n",
    "    ADT séquence qui représente une séquence d’acides aminés\n",
    "    et tous les opérations qu’on peut exécuter sur une séquence.\n",
    "    \"\"\"\n",
    "    def __init__(self, sequence):\n",
    "        self.sequence = sequence\n",
    "    \n",
    "    def __repr__(self):\n",
    "        return self.sequence\n",
    "    \n",
    "    def __len__(self):\n",
    "        return len(self.sequence)\n",
    "    \n",
    "    def __getitem__(self, index):\n",
    "        \"\"\"\n",
    "        @desc: Permet d'interpreter la classe comme une \"String\".\n",
    "        \n",
    "        @param{index}: Index de la lettre qu'on veut consulter.\n",
    "        \"\"\"\n",
    "        return self.sequence[index]\n",
    "\n",
    "    @staticmethod\n",
    "    def load(filename):\n",
    "        \"\"\"\n",
    "        \"\"\"\n",
    "        with open(filename) as f:\n",
    "            seq = \"\"\n",
    "            for line in f:\n",
    "                if line[0] == \">\":\n",
    "                    if seq:\n",
    "                        yield Sequence(seq)\n",
    "                    seq = \"\"\n",
    "                else:\n",
    "                    seq += line[:-1] # Not including '\\n'\n",
    "                    \n",
    "            if (seq):\n",
    "                yield Sequence(seq)"
   ]
  },
  {
   "cell_type": "code",
   "execution_count": 5,
   "metadata": {
    "collapsed": false
   },
   "outputs": [],
   "source": [
    "sh3sequence = [seq for seq in Sequence.load(\"./SH3-sequence.fasta\")]\n",
    "maguk = [seq for seq in Sequence.load(\"./maguk-sequences.fasta\")]"
   ]
  },
  {
   "cell_type": "markdown",
   "metadata": {},
   "source": [
    "* Un ADT score qui représente une matrice de substitution et les opérations qu’on peut exécuter sur cette matrice."
   ]
  },
  {
   "cell_type": "code",
   "execution_count": 6,
   "metadata": {
    "collapsed": false
   },
   "outputs": [],
   "source": [
    "class _ScoreLine:\n",
    "    \"\"\"\n",
    "    ADT utilisée pour pouvoir utiliser l'ADT Score comme une matrice.\n",
    "    \"\"\"\n",
    "    def __init__(self, line, indexes):\n",
    "        self.line = line\n",
    "        self.indexes = indexes\n",
    "    \n",
    "    def __getitem__(self, letter):\n",
    "        j = self.indexes.index(letter)\n",
    "        return self.line[j]\n",
    "\n",
    "class Score:\n",
    "    INDEXES = \"ARNDCQEGHILKMFPSTWYV\"\n",
    "    def __init__(self, matrix = [[]], indexes = INDEXES):\n",
    "        self.matrix = matrix\n",
    "        self.indexes = indexes\n",
    "        \n",
    "    def __getitem__(self, letter): \n",
    "        \"\"\"\n",
    "        @desc: Renvoie le score d'une combinaison de deux acides\n",
    "        \n",
    "        @param{letter}: Le premier acide.\n",
    "        @ex: Score['A']['Q']\n",
    "        \"\"\"\n",
    "        i = self.indexes.index(letter)\n",
    "        return _ScoreLine(self.matrix[i], self.indexes)\n",
    "\n",
    "    def __repr__(self):\n",
    "        ret = \"  \"\n",
    "        for char in self.indexes:\n",
    "            ret += \" %3s \" % (char)\n",
    "        ret += '\\n'\n",
    "        i = 0\n",
    "        for line in self.matrix:\n",
    "            ret += \"%3s \" % (self.indexes[i])\n",
    "            i += 1\n",
    "            for char in line:\n",
    "                if (char >= 0):\n",
    "                    ret += ' '\n",
    "                ret += \"%3s \" % (char)\n",
    "            ret += '\\n'\n",
    "\n",
    "        return ret\n",
    "    \n",
    "    @staticmethod\n",
    "    def load(filename):\n",
    "        with open(filename) as f:\n",
    "            matrix = []\n",
    "            indexes = Score.INDEXES\n",
    "            for line in f:\n",
    "                if line[0] == ' ' or line[0] == '\\t':\n",
    "                    indexes = line.split()\n",
    "                elif (line[0].isalpha()) or (line[0] == '*') or (line[0] == '-'):\n",
    "                    l = line[1:]\n",
    "                    matrix.append(list(map(int, l.split())))\n",
    "                    \n",
    "        return Score(matrix, indexes)"
   ]
  },
  {
   "cell_type": "markdown",
   "metadata": {},
   "source": [
    "# Implémentation de l'algorithme de Needleman-Wunsch\n",
    "\n",
    "En utilisant les ADT construits pendant l'étape précédente, vous implémentez en Python l’algorithme Needleman‐Wunsch qui calcule l’alignement global en utilisant la pénalité affine."
   ]
  },
  {
   "cell_type": "code",
   "execution_count": 7,
   "metadata": {
    "collapsed": true
   },
   "outputs": [],
   "source": [
    "OPENING_GAP_PENALTY = -12\n",
    "EXTENDING_GAP_PENALTY = -2"
   ]
  },
  {
   "cell_type": "code",
   "execution_count": 8,
   "metadata": {
    "collapsed": true
   },
   "outputs": [],
   "source": [
    "def init_matrix(x, y):\n",
    "    \"\"\"\n",
    "    Initialize the matrix with zeros and a column of base score.\n",
    "    \"\"\"\n",
    "    return [[(i * (OPENING_GAP_PENALTY + (j - 1) * EXTENDING_GAP_PENALTY)) + (j * (OPENING_GAP_PENALTY + (i - 1) * EXTENDING_GAP_PENALTY)) if (i == 0 or j == 0) else 0 for j in range(y + 1)] for i in range(x + 1)]"
   ]
  },
  {
   "cell_type": "code",
   "execution_count": 9,
   "metadata": {
    "collapsed": false
   },
   "outputs": [],
   "source": [
    "blosum80 = Score.load('./blosum80.txt')\n",
    "blosum62 = Score.load('./blosum62.txt')\n",
    "blosum40 = Score.load('./blosum40.txt')\n",
    "pam120 = Score.load('./pam120.txt')\n",
    "pam60 = Score.load('./pam60.txt')"
   ]
  },
  {
   "cell_type": "code",
   "execution_count": 10,
   "metadata": {
    "collapsed": false
   },
   "outputs": [],
   "source": [
    "class NeedlemanWunsch:\n",
    "    def __init__(self, seq1, seq2, scoringMatrix):\n",
    "        self.seq1 = seq1\n",
    "        self.seq2 = seq2\n",
    "        self.scoringMatrix = scoringMatrix\n",
    "        self.result = []\n",
    "        \n",
    "        self.m = len(seq1)\n",
    "        self.n = len(seq2)\n",
    "        \n",
    "        self.S = [[(i * (OPENING_GAP_PENALTY + (j - 1) * EXTENDING_GAP_PENALTY)) + (j * (OPENING_GAP_PENALTY + (i - 1) * EXTENDING_GAP_PENALTY)) if (i == 0 or j == 0) else 0 for j in range(self.n + 1)] for i in range(self.m + 1)]\n",
    "        self.V = [[(i * (OPENING_GAP_PENALTY + (j - 1) * EXTENDING_GAP_PENALTY)) + (j * (OPENING_GAP_PENALTY + (i - 1) * EXTENDING_GAP_PENALTY)) if (i == 0 or j == 0) else 0 for j in range(self.n + 1)] for i in range(self.m + 1)]\n",
    "        self.W = [[(i * (OPENING_GAP_PENALTY + (j - 1) * EXTENDING_GAP_PENALTY)) + (j * (OPENING_GAP_PENALTY + (i - 1) * EXTENDING_GAP_PENALTY)) if (i == 0 or j == 0) else 0 for j in range(self.n + 1)] for i in range(self.m + 1)]\n",
    "        \n",
    "        for i in range(1, self.m + 1):\n",
    "            for j in range(1, self.n + 1):\n",
    "                # Voir slide 63 (L3 alignement de séquences)\n",
    "                self.V[i][j] = max(\n",
    "                    self.S[i - 1][j] + OPENING_GAP_PENALTY + EXTENDING_GAP_PENALTY,\n",
    "                    self.V[i - 1][j] + EXTENDING_GAP_PENALTY\n",
    "                )\n",
    "\n",
    "                self.W[i][j] = max(\n",
    "                    self.S[i][j - 1] + OPENING_GAP_PENALTY + EXTENDING_GAP_PENALTY,\n",
    "                    self.W[i][j - 1] + EXTENDING_GAP_PENALTY\n",
    "                )\n",
    "            \n",
    "                self.S[i][j] = max(\n",
    "                    self.S[i - 1][j - 1] + scoringMatrix[self.seq1[i - 1]][self.seq2[j - 1]],\n",
    "                    self.V[i][j],\n",
    "                    self.W[i][j] \n",
    "                ) \n",
    "    \n",
    "        self._NW(\"\", \"\", self.m, self.n)\n",
    "        \n",
    "    def __repr__(self):\n",
    "        ret = \"\"\n",
    "        for i in range(0, len(self.result)):\n",
    "            ret += \"%s\\n\" % (self.result[i][0]) # seq1\n",
    "            identity = 0\n",
    "            similarity = 0\n",
    "            gap = 0\n",
    "            \n",
    "            for j in range(0, len(self.result[i][0])):\n",
    "                a = self.result[i][0][j]\n",
    "                b = self.result[i][1][j]\n",
    "                if (a == b):\n",
    "                    ret += ':'\n",
    "                    identity += 1\n",
    "                    similarity += 1\n",
    "                elif (a != '-' and b != '-' and self.scoringMatrix[a][b] >= 0):\n",
    "                    ret += '.'\n",
    "                    similarity += 1\n",
    "                else:\n",
    "                    ret += ' '\n",
    "                    gap += 1\n",
    "            ret += \"\\n\"\n",
    "            ret += \"%s\\n\" % (self.result[i][1]) # seq2\n",
    "            ret += \"%3.3f%% identity\\n\" % (100 * identity / len(self.result[i][0]))\n",
    "            ret += \"%3.3f%% similarity\\n\" % (100 * similarity / len(self.result[i][0]))\n",
    "            ret += \"%3.3f%% gap\\n\"  % (100 * gap / len(self.result[i][0]))\n",
    "            ret += \"Length : %i\\n\" % (len(self.result[i][0]))\n",
    "            ret += \"Global score : %s\\n\" % (self.S[self.m][self.n])\n",
    "        return ret\n",
    "\n",
    "        \n",
    "    def _NW(self, align1, align2, i, j):\n",
    "        \"\"\"\n",
    "        \"\"\"\n",
    "        if (i > 0 and j > 0) and (self.S[i][j] == self.S[i - 1][j - 1] + self.scoringMatrix[self.seq1[i - 1]][self.seq2[j - 1]]):\n",
    "            self._NW(self.seq1[i - 1] + align1, self.seq2[j - 1] + align2, i - 1, j - 1)\n",
    "        elif (i > 0) and (self.S[i][j] == self.V[i][j]):\n",
    "            self._NW(self.seq1[i - 1] + align1, \"-\" + align2, i - 1, j)\n",
    "        elif (j > 0) and (self.S[i][j] == self.W[i][j]):\n",
    "            self._NW(\"-\" + align1, self.seq2[j - 1] + align2, i, j - 1)\n",
    "        else:\n",
    "            # end of backtracking : we are back in S[0][0]\n",
    "            self.result.append((align1, align2))"
   ]
  },
  {
   "cell_type": "markdown",
   "metadata": {},
   "source": [
    "Vérifiez si votre programme donne le même résultat que l’outil LALIGN http://www.ch.embnet.org/software/LALIGN_form.html\n",
    "\n",
    "Utilisez les séquences dans le fichier SH3-sequences.fasta sur le site web.        "
   ]
  },
  {
   "cell_type": "code",
   "execution_count": 11,
   "metadata": {
    "collapsed": false,
    "scrolled": false
   },
   "outputs": [
    {
     "name": "stdout",
     "output_type": "stream",
     "text": [
      "GGVTTFVALYDYESRTETDLSFKKGERLQIVNNTEGDWWLAHSLSTGQTGYIPSNYVAPSDS\n",
      "      .: ::... .. .::::.:. :...:      :   .: .:. :.:: ::.     \n",
      "-M--EAIAKYDFKATADDELSFKRGDILKVLNEECDQNWYKAEL-NGKDGFIPKNYIEMKPH\n",
      "29.032% identity\n",
      "56.452% similarity\n",
      "43.548% gap\n",
      "Length : 62\n",
      "Global score : 59\n",
      "\n"
     ]
    }
   ],
   "source": [
    "print(NeedlemanWunsch(sh3sequence[0], sh3sequence[1], blosum80))"
   ]
  },
  {
   "cell_type": "markdown",
   "metadata": {},
   "source": [
    "Le résultat avec _LALIGN_ est le suivant:\n",
    "\n",
    "-----------------------------------------------------------------------------------------\n",
    "\n",
    "```\n",
    "lobal/global (N-W) score: 114; 30.2% identity (61.9% similar) in 63 aa overlap (1-60:1-58)\n",
    "\n",
    "               10        20        30         40        50          60         \n",
    "unknow GGVTTFVALYDYESRTETDLSFKKGERLQIVNNT-EGDWWLAHSLSTGQTGYIPSNYV--APS\n",
    "             .: ::... .. .::::.:. :...:   . .:. :.   .:. :.:: ::.   :\n",
    "unknow ---MEAIAKYDFKATADDELSFKRGDILKVLNEECDQNWYKAEL--NGKDGFIPKNYIEMKPH\n",
    "                  10        20        30        40          50     \n",
    "```\n",
    "\n",
    "-----------------------------------------------------------------------------------------"
   ]
  },
  {
   "cell_type": "code",
   "execution_count": 12,
   "metadata": {
    "collapsed": false
   },
   "outputs": [
    {
     "name": "stdout",
     "output_type": "stream",
     "text": [
      "GGVTTFVALYDYESRTETDLSFKKGERLQIVNNTEGDWWLAHSLSTGQTGYIPSNYVAPSDS\n",
      "    . .: ::. . .. .::::.:. :...:.  .. :    :. :. :.:: ::..    \n",
      "-M-EA-IAKYDFKATADDELSFKRGDILKVLNEECDQNWYKAELN-GKDGFIPKNYIEMKPH\n",
      "29.032% identity\n",
      "61.290% similarity\n",
      "38.710% gap\n",
      "Length : 62\n",
      "Global score : 57\n",
      "\n"
     ]
    }
   ],
   "source": [
    "print(NeedlemanWunsch(sh3sequence[0], sh3sequence[1], pam120))"
   ]
  },
  {
   "cell_type": "markdown",
   "metadata": {},
   "source": [
    "### Résultat de _LALIGN_\n",
    "\n",
    "-----------------------------------------------------------------------\n",
    "\n",
    "```\n",
    " n-w opt:  57  Z-score: 157.8  bits: 32.6 E(1): 2.1e-27\n",
    "global/global (N-W) score: 57; 29.0% identity (61.3% similar) in 62 aa overlap (1-62:1-58)\n",
    "\n",
    "               10        20        30        40        50        60\n",
    "unknow GGVTTFVALYDYESRTETDLSFKKGERLQIVNNTEGDWWLAHSLSTGQTGYIPSNYVAPSDS\n",
    "         .   .: ::. . .. .::::.:. :...:.  .. :    :. :. :.:: ::..  \n",
    "unknow MEA---IAKYDFKATADDELSFKRGDILKVLNEECDQNWYKAELN-GKDGFIPKNYIEMKPH\n",
    "                  10        20        30        40         50               \n",
    "```\n",
    "\n",
    "-----------------------------------------------------------------------\n",
    "\n",
    "Ici en utilisant la matrice de score PAM120 l'algorithme donne le même résultat que _LALIGN_ tfa"
   ]
  },
  {
   "cell_type": "markdown",
   "metadata": {},
   "source": [
    "## Partie 1.3\n",
    "\n",
    "Modifiez le logiciel de la partie 1.2 de sorte que on peut faire un alignement local (Smith‐Waterman). Utilisez les séquences dans le fichier maguk-sequences.fasta sur le site web. "
   ]
  },
  {
   "cell_type": "code",
   "execution_count": 13,
   "metadata": {
    "collapsed": true
   },
   "outputs": [],
   "source": [
    "class SmithWaterman:\n",
    "    def __init__(self, seq1, seq2, scoringMatrix):\n",
    "        self.seq1 = seq1\n",
    "        self.seq2 = seq2\n",
    "        self.scoringMatrix = scoringMatrix\n",
    "        self.result = []\n",
    "        \n",
    "        self.m = len(seq1)\n",
    "        self.n = len(seq2)\n",
    "        \n",
    "        self.max = [self.m, self.n]\n",
    "        \n",
    "        self.S = init_matrix(self.m, self.n)\n",
    "        self.V = init_matrix(self.m, self.n)\n",
    "        self.W = init_matrix(self.m, self.n)\n",
    "        \n",
    "        # Remplit les matrices en utilisant les formules vue dans les slides du cour.\n",
    "        for i in range(1, self.m + 1):\n",
    "            for j in range(1, self.n + 1):\n",
    "                # Voir slide 63 (L3 alignement de séquences)\n",
    "                self.V[i][j] = max(\n",
    "                    self.S[i - 1][j] + OPENING_GAP_PENALTY + EXTENDING_GAP_PENALTY,\n",
    "                    self.V[i - 1][j] + EXTENDING_GAP_PENALTY\n",
    "                )\n",
    "\n",
    "                self.W[i][j] = max(\n",
    "                    self.S[i][j - 1] + OPENING_GAP_PENALTY + EXTENDING_GAP_PENALTY, \n",
    "                    self.W[i][j - 1] + EXTENDING_GAP_PENALTY\n",
    "                )\n",
    "            \n",
    "                self.S[i][j] = max(\n",
    "                    self.S[i - 1][j - 1] + scoringMatrix[self.seq1[i - 1]][self.seq2[j - 1]],\n",
    "                    self.V[i][j],\n",
    "                    self.W[i][j],\n",
    "                    0\n",
    "                ) \n",
    "\n",
    "                if (self.S[i][j] > self.S[self.max[0]][self.max[1]]):\n",
    "                    self.max = [i, j]\n",
    "    \n",
    "        self._SW(\"\", \"\", self.m, self.n)\n",
    "        \n",
    "    def __repr__(self):\n",
    "        ret = \"\"\n",
    "        for i in range(0, len(self.result)):\n",
    "            ret += \"%s\\n\" % (self.result[i][0]) # seq1\n",
    "            identity = 0\n",
    "            similarity = 0\n",
    "            gap = 0\n",
    "            for j in range(0, len(self.result[i][0])):\n",
    "                a = self.result[i][0][j]\n",
    "                b = self.result[i][1][j]\n",
    "                if (a == b):\n",
    "                    ret += ':'\n",
    "                    identity += 1\n",
    "                    similarity += 1\n",
    "                elif (a != '-' and b != '-' and self.scoringMatrix[a][b] >= 0):\n",
    "                    ret += '.'\n",
    "                    similarity += 1\n",
    "                else:\n",
    "                    ret += ' '\n",
    "                    gap += 1\n",
    "            ret += \"\\n\"\n",
    "            ret += \"%s\\n\" % (self.result[i][1]) # seq2\n",
    "            ret += \"%3.3f%% identity\\n\" % (100 * identity / len(self.result[i][0]))\n",
    "            ret += \"%3.3f%% similarity\\n\" % (100 * similarity / len(self.result[i][0]))\n",
    "            ret += \"%3.3f%% gap\\n\"  % (100 * gap / len(self.result[i][0]))\n",
    "            ret += \"Length : %i\\n\" % (len(self.result[i][0]))\n",
    "            ret += \"Global score : %s\\n\" % (self.S[self.max[0]][self.max[1]])\n",
    "        return ret\n",
    "\n",
    "        \n",
    "    def _SW(self, align1, align2, i, j):\n",
    "        \"\"\"\n",
    "        \"\"\"\n",
    "        # print(\"---\\nALIGN1: %s\\nALIGN2: %s\\n---\" % (align1, align2))\n",
    "        if (i > 0 and j > 0) and (self.S[i][j] > 0):\n",
    "            if self.S[i][j] == self.S[i - 1][j - 1] + self.scoringMatrix[self.seq1[i - 1]][self.seq2[j - 1]]:\n",
    "                # Vérification par apport à la diagonale.\n",
    "                self._SW(self.seq1[i - 1] + align1, self.seq2[j - 1] + align2, i - 1, j - 1)\n",
    "            elif self.S[i][j] == self.V[i][j]:\n",
    "                # Vérification par apport à la gauche: trous dans seq2\n",
    "                self._SW(self.seq1[i - 1] + align1, \"-\" + align2, i - 1, j)\n",
    "            elif self.S[i][j] == self.W[i][j]:\n",
    "                # Vérification par apport au dessus: trous sequ1\n",
    "                self._SW(\"-\" + align1, self.seq2[j - 1] + align2, i, j - 1)\n",
    "\n",
    "        else:\n",
    "            self.result.append((align1, align2))"
   ]
  },
  {
   "cell_type": "code",
   "execution_count": 14,
   "metadata": {
    "collapsed": false
   },
   "outputs": [
    {
     "name": "stdout",
     "output_type": "stream",
     "text": [
      "VNGTDADYEYEEITLERGNSGLGFSIAGGTDNPHIGDDSSIFITKIITGGAAAQDGRLRVNDCILRVNEVDVRDVTHSKAVEALKEAGSIVRLYVKRRKPVSEKIMEIKLIKGPKGLGFSIAGGVGNQHIPGDNSIYVTKIIEGGAAHKDGKLQIGDKLLAVNNVCLEEVTHEEAVTALKNTSDFVYLKVAKPTSMYMNDGYAPPDITNSSSQPVDNHVSP-SS--FLG----------QTPASPARYSPVSKAVLGDDEITREPRKVVLHRGSTGLGFNIVGGEDGEGIFISFILAGGPADLSGELRKGDRIISVNSVDLRAASHEQAAAALKNAGQAVTIVAQYRPEEYSRFEAKIHDLREQMMNSSISSGSGSLRTSQKRSLYVRALFDYDKTKDSGLPSQGLNFKFGDILHVINASDDEWWQARQVTPDGESDEVGVIPSKRRVEKKERARLKTVKFNSKTRDKGEIPDDMGSKGLKHVTSNASDSESSYRGQEEYVLSYEPVNQQEVNYTRPVIILGPMKDRINDDLISEFPDKFGSCVPHTTRPKRDYEVDGRDYHFVTSREQMEKDIQEHKFIEAGQYNNHLYGTSVQSVREVAEKGKHCILDVSGNAIKRLQIAQLYPISIFIKPKSMENIMEMNKRLTEEQARKTFERAMKLEQEFTEHFTAIVQGDTLEDIYNQVKQIIEEQSGSYIWVPAKEKL\n",
      ":::.:. . ::::.:::::::::::::::.::::. ::..::::::: ::::: :::: ::::.:::::::: .:.::.:::::::::..::: :.::.: .: :::..:.:::::::::::::.::::::::::::.:::::::::.:::.:::::.::::::. :..: :::::..:::::: :::::::: :. .:: ::::: ... .  .:::.:  ::  .::          . ...:.::::... .:.....::::::..::.:::::::::::::::::::.::::::::::::::::.::::.:::.:.:: :.::::::::: :::.::::::::::::::::.:::::::::::::.::::::::::.:::::::::::::.:.:: ::::::.: .:::::::::::::::::: :::.:::...::::::.:::::::::::::::...:   : : .. .  ::    :..  .. . .:::. .::::::..::..:.::::::::::::.:::::::::.::::::::::::.:: ::::.:::::.::::::::::..:::::::.:..:::::.::::.:::.::::::::::::::::: ::::::.:::::::.: .::::.: : ::: :....:::::::: : ::::::::.::.:::..:::::.::: :::::. :::\n",
      "VNGSDGMFKYEEIVLERGNSGLGFSIAGGIDNPHVPDDPGIFITKIIPGGAAAMDGRLGVNDCVLRVNEVDVSEVVHSRAVEALKEAGPVVRLVVRRRQPPPETIMEVNLLKGPKGLGFSIAGGIGNQHIPGDNSIYITKIIEGGAAQKDGRLQIGDRLLAVNNTNLQDVRHEEAVASLKNTSDMVYLKVAKPGSLHLNDMYAPPDYASTFTALADNHISHNSSLGYLGAVESKVSYPAPPQVPPTRYSPIPRHMLAEEDFTREPRKIILHKGSTGLGFNIVGGEDGEGIFVSFILAGGPADLSGELRRGDRILSVNGVNLRNATHEQAAAALKRAGQSVTIVAQYRPEEYSRFESKIHDLREQMMNSSMSSGSGSLRTSEKRSLYVRALFDYDRTRDSCLPSQGLSFSYGDILHVINASDDEWWQARLVTPHGESEQIGVIPSKKRVEKKERARLKTVKFHART---GMIESNRDFPGL----SDDYYGAKNLKGQEDAILSYEPVTRQEIHYARPVIILGPMKDRVNDDLISEFPHKFGSCVPHTTRPRRDNEVDGQDYHFVVSREQMEKDIQDNKFIEAGQFNDNLYGTSIQSVRAVAERGKHCILDVSGNAIKRLQQAQLYPIAIFIKPKSIEALMEMNRRQTYEQANKIYDKAMKLEQEFGEYFTAIVQGDSLEEIYNKIKQIIEDQSGHYIWVPSPEKL\n",
      "73.191% identity\n",
      "90.355% similarity\n",
      "9.645% gap\n",
      "Length : 705\n",
      "Global score : 2711\n",
      "\n"
     ]
    }
   ],
   "source": [
    "import sys\n",
    "sys.setrecursionlimit(10000)\n",
    "\n",
    "print(SmithWaterman(maguk[0], maguk[1], pam120))\n"
   ]
  },
  {
   "cell_type": "markdown",
   "metadata": {
    "collapsed": true
   },
   "source": [
    "### Résultat de LALIGN\n",
    "\n",
    "Identique en utilisant PAM120.\n",
    "\n",
    "```\n",
    " Waterman-Eggert score: 2711;  1234.7 bits; E(1) <  0\n",
    "73.0% identity (90.2% similar) in 705 aa overlap (213-904:120-817)\n",
    "\n",
    "            220       230       240       250       260       270  \n",
    "unknow VNGTDADYEYEEITLERGNSGLGFSIAGGTDNPHIGDDSSIFITKIITGGAAAQDGRLRV\n",
    "       :::.:. . ::::.:::::::::::::::.::::. ::..::::::: ::::: :::: :\n",
    "unknow VNGSDGMFKYEEIVLERGNSGLGFSIAGGIDNPHVPDDPGIFITKIIPGGAAAMDGRLGV\n",
    "     120       130       140       150       160       170         \n",
    "\n",
    "            280       290       300       310       320       330  \n",
    "unknow NDCILRVNEVDVRDVTHSKAVEALKEAGSIVRLYVKRRKPVSEKIMEIKLIKGPKGLGFS\n",
    "       :::.:::::::: .:.::.:::::::::..::: :.::.: .: :::..:.:::::::::\n",
    "unknow NDCVLRVNEVDVSEVVHSRAVEALKEAGPVVRLVVRRRQPPPETIMEVNLLKGPKGLGFS\n",
    "     180       190       200       210       220       230         \n",
    "\n",
    "            340       350       360       370       380       390  \n",
    "unknow IAGGVGNQHIPGDNSIYVTKIIEGGAAHKDGKLQIGDKLLAVNNVCLEEVTHEEAVTALK\n",
    "       ::::.::::::::::::.:::::::::.:::.:::::.::::::. :..: :::::..::\n",
    "unknow IAGGIGNQHIPGDNSIYITKIIEGGAAQKDGRLQIGDRLLAVNNTNLQDVRHEEAVASLK\n",
    "     240       250       260       270       280       290         \n",
    "\n",
    "            400       410       420       430                      \n",
    "unknow NTSDFVYLKVAKPTSMYMNDGYAPPDITNSSSQPVDNHVSPSSFLG-------------Q\n",
    "       :::: :::::::: :. .:: ::::: ... .  .:::.: .: ::             .\n",
    "unknow NTSDMVYLKVAKPGSLHLNDMYAPPDYASTFTALADNHISHNSSLGYLGAVESKVSYPAP\n",
    "     300       310       320       330       340       350         \n",
    "\n",
    "     440       450       460       470       480       490         \n",
    "unknow TPASPARYSPVSKAVLGDDEITREPRKVVLHRGSTGLGFNIVGGEDGEGIFISFILAGGP\n",
    "        ...:.::::... .:.....::::::..::.:::::::::::::::::::.::::::::\n",
    "unknow PQVPPTRYSPIPRHMLAEEDFTREPRKIILHKGSTGLGFNIVGGEDGEGIFVSFILAGGP\n",
    "     360       370       380       390       400       410         \n",
    "\n",
    "     500       510       520       530       540       550         \n",
    "unknow ADLSGELRKGDRIISVNSVDLRAASHEQAAAALKNAGQAVTIVAQYRPEEYSRFEAKIHD\n",
    "       ::::::::.::::.:::.:.:: :.::::::::: :::.::::::::::::::::.::::\n",
    "unknow ADLSGELRRGDRILSVNGVNLRNATHEQAAAALKRAGQSVTIVAQYRPEEYSRFESKIHD\n",
    "     420       430       440       450       460       470         \n",
    "\n",
    "     560       570       580       590       600       610         \n",
    "unknow LREQMMNSSISSGSGSLRTSQKRSLYVRALFDYDKTKDSGLPSQGLNFKFGDILHVINAS\n",
    "       :::::::::.::::::::::.:::::::::::::.:.:: ::::::.: .::::::::::\n",
    "unknow LREQMMNSSMSSGSGSLRTSEKRSLYVRALFDYDRTRDSCLPSQGLSFSYGDILHVINAS\n",
    "     480       490       500       510       520       530         \n",
    "\n",
    "     620       630       640       650       660       670         \n",
    "unknow DDEWWQARQVTPDGESDEVGVIPSKRRVEKKERARLKTVKFNSKTRDKGEIPDDMGSKGL\n",
    "       :::::::: :::.:::...::::::.:::::::::::::::...:   : : .. .  ::\n",
    "unknow DDEWWQARLVTPHGESEQIGVIPSKKRVEKKERARLKTVKFHART---GMIESNRDFPGL\n",
    "     540       550       560       570       580          590      \n",
    "\n",
    "     680       690       700       710       720       730         \n",
    "unknow KHVTSNASDSESSYRGQEEYVLSYEPVNQQEVNYTRPVIILGPMKDRINDDLISEFPDKF\n",
    "           :..  .. . .:::. .::::::..::..:.::::::::::::.:::::::::.::\n",
    "unknow ----SDDYYGAKNLKGQEDAILSYEPVTRQEIHYARPVIILGPMKDRVNDDLISEFPHKF\n",
    "            600       610       620       630       640       650  \n",
    "\n",
    "     740       750       760       770       780       790         \n",
    "unknow GSCVPHTTRPKRDYEVDGRDYHFVTSREQMEKDIQEHKFIEAGQYNNHLYGTSVQSVREV\n",
    "       ::::::::::.:: ::::.:::::.::::::::::..:::::::.:..:::::.::::.:\n",
    "unknow GSCVPHTTRPRRDNEVDGQDYHFVVSREQMEKDIQDNKFIEAGQFNDNLYGTSIQSVRAV\n",
    "            660       670       680       690       700       710  \n",
    "\n",
    "     800       810       820       830       840       850         \n",
    "unknow AEKGKHCILDVSGNAIKRLQIAQLYPISIFIKPKSMENIMEMNKRLTEEQARKTFERAMK\n",
    "       ::.::::::::::::::::: ::::::.:::::::.: .::::.: : ::: :....:::\n",
    "unknow AERGKHCILDVSGNAIKRLQQAQLYPIAIFIKPKSIEALMEMNRRQTYEQANKIYDKAMK\n",
    "            720       730       740       750       760       770  \n",
    "\n",
    "     860       870       880       890       900    \n",
    "unknow LEQEFTEHFTAIVQGDTLEDIYNQVKQIIEEQSGSYIWVPAKEKL\n",
    "       ::::: : ::::::::.::.:::..:::::.::: :::::. :::\n",
    "unknow LEQEFGEYFTAIVQGDSLEEIYNKIKQIIEDQSGHYIWVPSPEKL\n",
    "            780       790       800       810       \n",
    "```"
   ]
  },
  {
   "cell_type": "markdown",
   "metadata": {},
   "source": [
    "Retrouvez les similarités entre les 4 séquences. Expliquez les similarités. Plus d’informations concernant les protéines dans le fichier .fasta peuvent être trouvées sur le site UniProt (http://www.uniprot.org/)."
   ]
  },
  {
   "cell_type": "markdown",
   "metadata": {},
   "source": [
    "Le résultat du site uniprot est le suivant: http://www.uniprot.org/align/A20161102F725F458AC8690F874DD868E4ED79B8896EBCFO .\n",
    "Les similaritées sont dû à l'origine humaine des protéines."
   ]
  }
 ],
 "metadata": {
  "kernelspec": {
   "display_name": "Python 3",
   "language": "python",
   "name": "python3"
  },
  "language_info": {
   "codemirror_mode": {
    "name": "ipython",
    "version": 3
   },
   "file_extension": ".py",
   "mimetype": "text/x-python",
   "name": "python",
   "nbconvert_exporter": "python",
   "pygments_lexer": "ipython3",
   "version": "3.5.2"
  }
 },
 "nbformat": 4,
 "nbformat_minor": 1
}
