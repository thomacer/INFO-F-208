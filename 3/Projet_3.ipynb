{
 "cells": [
  {
   "cell_type": "markdown",
   "metadata": {
    "collapsed": true
   },
   "source": [
    "# Mini projet 3: Les profils PSSM\n",
    "\n",
    "Le but de ce projet est de construire une PSSM (Position Specific Scoring Matrix) pour représenter un motif (patterns) dans un groupe de séquence de la famille WW dans notre cas et ainsi représenter cette famille dans son ensemble .\n",
    "\n",
    "Pour cela on doit en premier lieu implémenter l'algorithme de création d'une PSSM.\n",
    "\n",
    "Ensuite comparer nos résultat en utilisant la même famille avec ceux qu'on peut trouver sur le site PFAM."
   ]
  },
  {
   "cell_type": "markdown",
   "metadata": {},
   "source": [
    "## Données\n",
    "\n",
    "L'ensemble de séquence sur lequel on doit executer nos algorithmes se trouve comme cité dans l'énoncé dans la base de donnée [SMART](http://smart.embl.de) en utilisant le mode _normal_.\n",
    "\n",
    "Plus précisément on utilise les 136 séquences qui sont liées aux domaines WW dans des protéines humaines (sauvegardé dans le fichier _to-be-aligned.fasta_).\n",
    "\n",
    "Ces séquences peuvent être alignées à l'aide de trois outils proposé dans l'énoncé parmis lesquels j'ai choisis ces deux ci:\n",
    "\n",
    "* [CLUSTAL Omega](http://www.ebi.ac.uk/Tools/msa/clustalo/) (alignement sauvegardé dans _msaresults-CLUSTAL.fasta_) \n",
    "* [MUSCLE](http://www.ebi.ac.uk/Tools/msa/muscle/) (alignement sauvegardé dans _msaresults-MUSCLE.fasta_) "
   ]
  },
  {
   "cell_type": "markdown",
   "metadata": {},
   "source": [
    "## Implémentation\n",
    "\n",
    "Je réutilise le parser que j'ai utilisez dans mes précédents projets pour lire des fichiers _.fasta_ qui viennent d'être alignés."
   ]
  },
  {
   "cell_type": "code",
   "execution_count": 17,
   "metadata": {
    "collapsed": true
   },
   "outputs": [],
   "source": [
    "VALID_AMINO = \"ARNDCQEGHILKMFPSTWYVBZX\""
   ]
  },
  {
   "cell_type": "code",
   "execution_count": 36,
   "metadata": {
    "collapsed": true
   },
   "outputs": [],
   "source": [
    "class Sequence():\n",
    "    \"\"\"\n",
    "    ADT séquence qui représente une séquence d’acides aminés\n",
    "    et tous les opérations qu’on peut exécuter sur une séquence.\n",
    "    \"\"\"\n",
    "    def __init__(self, sequence):\n",
    "        self.current = 0\n",
    "        self.sequence = sequence\n",
    "    \n",
    "    def __repr__(self):\n",
    "        return str(self.sequence)\n",
    "    \n",
    "    def __len__(self):\n",
    "        return len(self.sequence)\n",
    "    \n",
    "    def __iter__(self):\n",
    "        self.current = 0\n",
    "        return self\n",
    "    \n",
    "    def __next__(self):\n",
    "        if self.current >= len(self.sequence):\n",
    "            raise StopIteration\n",
    "        else:\n",
    "            self.current += 1\n",
    "            return self.sequence[self.current - 1]\n",
    "    \n",
    "    def __getitem__(self, index):\n",
    "        \"\"\"\n",
    "        @desc: Permet d'interpreter la classe comme une \"String\".\n",
    "        \n",
    "        @param{index}: Index de la lettre qu'on veut consulter.\n",
    "        \"\"\"\n",
    "        return self.sequence[index]\n",
    "\n",
    "    @staticmethod\n",
    "    def load(filename):\n",
    "        \"\"\"\n",
    "        \"\"\"\n",
    "        with open(filename) as f:\n",
    "            seq = []\n",
    "            for line in f:\n",
    "                if line[0] == \">\":\n",
    "                    if seq:\n",
    "                        yield Sequence(''.join(seq))\n",
    "                    seq = [] \n",
    "                else:\n",
    "                    seq.append(line.strip())\n",
    "                    \n",
    "            if (seq):\n",
    "                yield Sequence(''.join(seq))"
   ]
  },
  {
   "cell_type": "markdown",
   "metadata": {},
   "source": [
    "J'importe les résultats des alignements executé à l'aide des outils _CLUSTAL Omega_ et _MUSCLE_ dans le notebook."
   ]
  },
  {
   "cell_type": "code",
   "execution_count": 37,
   "metadata": {
    "collapsed": false
   },
   "outputs": [],
   "source": [
    "clustal = [seq for seq in Sequence.load('./msaresults-CLUSTAL.fasta')]\n",
    "muscle = [seq for seq in Sequence.load('./msaresults-MUSCLE.fasta')]"
   ]
  },
  {
   "cell_type": "markdown",
   "metadata": {},
   "source": [
    "## L'algorithme\n",
    "\n",
    "On rechercher ici à déterminer la probabilité qu'a un certain acide aminé d'apparaitre à une certaine position dans une séquence, là où les anciens projets nous demandait d'obtenir un score d'alignement."
   ]
  },
  {
   "cell_type": "code",
   "execution_count": 38,
   "metadata": {
    "collapsed": true
   },
   "outputs": [],
   "source": [
    "# les proba sont hard-coder | trouver sur swissprot\n",
    "PROBABILITY_AMINO = {\n",
    "    \"A\": 0.0826,   \"Q\": 0.0393,   \"L\": 0.0966,   \"S\": 0.0657,\n",
    "    \"R\": 0.0553,   \"E\": 0.0674,   \"K\": 0.0583,   \"T\": 0.0534,\n",
    "    \"N\": 0.0405,   \"G\": 0.0708,   \"M\": 0.0241,   \"W\": 0.0109,\n",
    "    \"D\": 0.0546,   \"H\": 0.0227,   \"F\": 0.0386,   \"Y\": 0.0292,\n",
    "    \"C\": 0.0137,   \"I\": 0.0595,   \"P\": 0.0471,   \"V\": 0.0687,\n",
    "    \"B\": 0.0000,   \"Z\": 0.0000,  \"X\": 0.0000\n",
    "}"
   ]
  },
  {
   "cell_type": "code",
   "execution_count": 63,
   "metadata": {
    "collapsed": false
   },
   "outputs": [],
   "source": [
    "from math import log, sqrt\n",
    "\n",
    "\n",
    "class Profil(object):\n",
    "    \"\"\" \n",
    "    Classe permetant de créer un profile \n",
    "    \"\"\"\n",
    "    def __init__(self, sequences):\n",
    "        self._sequences = sequences\n",
    "        self._seqSize = len(self._sequences[0])\n",
    "\n",
    "        self._alpha = len(self._sequences) - 1\n",
    "        self._beta = sqrt(len(self._sequences))\n",
    "\n",
    "        self._profile = [{a : 0 for a in VALID_AMINO} for i in range(self._seqSize)]\n",
    "\n",
    "        self._consensusSeq = \"\"\n",
    "\n",
    "        self._make()\n",
    "\n",
    "    def _addFrequency(self):\n",
    "        \"\"\"\n",
    "        Ajoute la fréquence pour chaque acide aminé au profile \n",
    "        \"\"\"\n",
    "        for seq in self._sequences:\n",
    "            for i, amino in enumerate(seq):\n",
    "                if amino != \"-\":\n",
    "                    self._profile[i][amino] += (1 / len(self._sequences))\n",
    "\n",
    "    def _addQ(self):\n",
    "        \"\"\"\n",
    "        Ajoute des pseudo count au profile\n",
    "        \"\"\"\n",
    "        for i in range(self._seqSize):\n",
    "            for amino in VALID_AMINO:\n",
    "                self._profile[i][amino] = (self._alpha * self._profile[i][amino]) + (self._beta * PROBABILITY_AMINO[amino])\n",
    "                self._profile[i][amino] /= (self._alpha + self._beta)\n",
    "\n",
    "    def _addScore(self):\n",
    "        \"\"\" \n",
    "        Ajoute le score (log finale) au profile\n",
    "        \"\"\"\n",
    "        for i in range(self._seqSize):\n",
    "            for amino in VALID_AMINO:\n",
    "                if PROBABILITY_AMINO[amino] == 0 and self._profile[i][amino] == 0:\n",
    "                    # limite log tendant => 0 ==  (log(0/0)) == -inf\n",
    "                    # car une proba réellement nul n'est pas possible => log(0)\n",
    "                    self._profile[i][amino] = float(\"-inf\")\n",
    "                elif PROBABILITY_AMINO[amino] != 0: #log(nbr-reel)\n",
    "                    self._profile[i][amino] = log(self._profile[i][amino] / PROBABILITY_AMINO[amino], 2)\n",
    "                else: # log(inf)\n",
    "                    self._profile[i][amino] = float(\"inf\")\n",
    "\n",
    "    def _makeConsensus(self):\n",
    "        \"\"\" Crée la séquence consensus\"\"\"\n",
    "        self._consensusSeq = \"\"\n",
    "        for i in range(self._seqSize):\n",
    "            # on ajoute a chaque fois le meilleur amino au consensus\n",
    "            bestAmino = VALID_AMINO[0]\n",
    "            for amino in VALID_AMINO:\n",
    "                if self._profile[i][amino] > self._profile[i][bestAmino]:\n",
    "                    bestAmino = amino\n",
    "                    \n",
    "            self._consensusSeq += bestAmino\n",
    "\n",
    "    def _make(self):\n",
    "        \"\"\"\n",
    "        Cette méthode ajoute les différentes étapes au profil et crée le consensus\n",
    "        \"\"\"\n",
    "        self._addFrequency()\n",
    "        self._addQ()\n",
    "        self._addScore()\n",
    "        \n",
    "        self._makeConsensus()\n",
    "\n",
    "    def __str__(self):\n",
    "        \"\"\" \n",
    "        Cette méthode sauvegarde le profile dans un fichier\n",
    "        \"\"\"\n",
    "        # Première ligne : numéro des colonnes\n",
    "        result = \"   \"\n",
    "        for i in range(self._seqSize):\n",
    "            result += \"%8i\" % (i)\n",
    "        result += \"\\n\"\n",
    "        \n",
    "        for amino in VALID_AMINO:\n",
    "            result += \"%s  \" % (amino)\n",
    "            for i in range(self._seqSize):\n",
    "                result += \"%+8.3f\" % (round(self._profile[i][amino], 3))\n",
    "            result += \"\\n\"\n",
    "            \n",
    "        return result"
   ]
  },
  {
   "cell_type": "markdown",
   "metadata": {},
   "source": [
    "Le but de l'algorithme est de représenter un ensemble de protéine. Le calcul du score est effectué en plusieurs étapes.\n",
    "\n",
    "    1. Calcul des fŕéquences d'acides aminées dans chaque colonne.\n",
    "    \n",
    "    2. Calcul de la probabilité de trouver un acide aminé dans une séquence."
   ]
  },
  {
   "cell_type": "markdown",
   "metadata": {},
   "source": [
    "Pour calculer la fréquence d'apparition de chaque acide aminé sur l'ensemble des séquences on doit trouver:\n",
    "\n",
    "$$f_{u,b} = \\frac{n_{u,b}}{N_{seq}}$$\n",
    "\n",
    "qui est la fréquence d'apparition d'un acide aminé sur une séquence avec $n_{u,b}$ qui est le nombre de fois qu'apparait un acide aminé dans une séquence et $N_{seq}$ qui est le nombre de séquence.\n",
    "\n",
    "Ce calcul est défini dans la fonction `def _addFrequency(self):`."
   ]
  },
  {
   "cell_type": "markdown",
   "metadata": {},
   "source": [
    "La deuxième étape est de calculer la probabilitée de trouver un acide aminé dans une séquence. Avec:\n",
    "\n",
    "$$N'_{seq} = nombre\\ de\\ séquence\\ sans\\ \"gap\"\\ à\\ cette\\ position$$\n",
    "$$\\alpha = N_{seq} - 1$$\n",
    "$$\\beta = \\sqrt{N_{seq}}$$\n",
    "\n",
    "$p_a$ est la probabilité d'obtenir un acide aminé (trouvé sur _SWISSPROT_) que j'ai traduit comme suit dans mon implémentation:\n",
    "\n",
    "```\n",
    "PROBABILITY_AMINO = {\n",
    "    \"A\": 0.0826,   \"Q\": 0.0393,   \"L\": 0.0966,   \"S\": 0.0657,\n",
    "    \"R\": 0.0553,   \"E\": 0.0674,   \"K\": 0.0583,   \"T\": 0.0534,\n",
    "    \"N\": 0.0405,   \"G\": 0.0708,   \"M\": 0.0241,   \"W\": 0.0109,\n",
    "    \"D\": 0.0546,   \"H\": 0.0227,   \"F\": 0.0386,   \"Y\": 0.0292,\n",
    "    \"C\": 0.0137,   \"I\": 0.0595,   \"P\": 0.0471,   \"V\": 0.0687,\n",
    "    \"B\": 0.0000,   \"Z\": 0.0000,  \"X\": 0.0000\n",
    "}\n",
    "```\n",
    "\n",
    "La probabilitée est donc:\n",
    "\n",
    "$$q_{u,a} = \\frac{\\alpha f_{u,a} + \\beta p_a}{\\alpha + \\beta}$$\n",
    "\n",
    "La probabilitée est calculée dans la méthode `def _addFrequency(self):`\n"
   ]
  },
  {
   "cell_type": "markdown",
   "metadata": {},
   "source": [
    "Le score final est calculé avec la formule suivante:\n",
    "\n",
    "$$m_{u,a} = log \\frac{q_{u,a}}{p_a}$$\n",
    "\n",
    "#### Note\n",
    "\n",
    "Il est possible que la fonction $q_{u,a}$ aie un résultat égale à 0, ce qui donne une forme indéterminée. Pour cela on peut utiliser les pseudocounts qui sont des constantes qu'on ajoute aux valeurs dans le profile qui représentent le distribution antérieure. \n",
    "\n",
    "C'est pour cela qu'on ajoute à $\\frac{\\alpha f_{u,a}}{\\alpha + \\beta}$: $\\frac{\\beta p_a}{\\alpha + \\beta}$ dans notre calcul de $q_{u,a}$.\n",
    "\n",
    "De cette manière même quand il n'y a aucune séquence, les _pseudocounts_ déterminent la valeurs de notre profile"
   ]
  },
  {
   "cell_type": "markdown",
   "metadata": {},
   "source": [
    "# Analyse des résultats"
   ]
  },
  {
   "cell_type": "markdown",
   "metadata": {},
   "source": [
    "On commence par executer les profils sur les séquences."
   ]
  },
  {
   "cell_type": "code",
   "execution_count": 64,
   "metadata": {
    "collapsed": false
   },
   "outputs": [],
   "source": [
    "c = Profil(clustal)\n",
    "m = Profil(muscle)"
   ]
  },
  {
   "cell_type": "code",
   "execution_count": 65,
   "metadata": {
    "collapsed": false,
    "scrolled": true
   },
   "outputs": [
    {
     "name": "stdout",
     "output_type": "stream",
     "text": [
      "          0       1       2       3       4       5       6       7       8       9      10      11      12      13      14      15      16      17      18      19      20      21      22      23      24      25      26      27      28      29      30      31      32      33      34      35      36      37      38      39      40      41      42      43      44      45      46      47      48      49      50      51      52      53      54      55      56      57      58      59\n",
      "A    -1.571  -1.386  -2.335  -0.027  -3.236  -4.058  -4.058  -1.571  +0.702  -4.058  -0.941  -4.058  +0.163  -1.386  -4.058  -4.058  -1.075  -3.236  -4.058  -4.058  -1.386  -4.058  -4.058  -4.058  -4.058  -4.058  -3.236  -4.058  -3.236  -4.058  -4.058  -4.058  -4.058  -4.058  -4.058  -4.058  -4.058  -4.058  -4.058  -4.058  -4.058  -4.058  -4.058  -4.058  -4.058  -4.058  -4.058  -0.327  -2.033  -1.222  -4.058  -1.386  -3.236  -1.075  -4.058  -1.784  -4.058  -4.058  -1.222  -1.784\n",
      "R    -4.058  -2.339  -1.576  +0.127  -1.908  -4.058  -1.307  +0.716  +2.266  -1.080  -4.058  -2.956  +0.215  -0.292  -4.058  -0.558  +2.957  +0.590  -4.058  -4.058  -4.058  -4.058  -4.058  -4.058  -4.058  -4.058  -4.058  -4.058  -4.058  -4.058  -4.058  -4.058  -4.058  -4.058  -4.058  -4.058  -4.058  -4.058  -4.058  -4.058  -4.058  -1.576  -4.058  -4.058  -4.058  -4.058  -4.058  -0.712  -0.558  -1.908  +2.440  +0.887  -1.576  -0.175  -4.058  -1.908  +1.890  -4.058  +2.494  -0.712\n",
      "N    -1.548  -2.699  -0.000  -2.012  +0.358  -4.058  -4.058  -4.058  -1.548  -2.012  -4.058  -4.058  +0.248  +1.744  -4.058  -2.012  -4.058  -4.058  -4.058  -4.058  -4.058  +3.661  -4.058  -4.058  -4.058  -4.058  -4.058  -4.058  -4.058  -4.058  -4.058  -4.058  -4.058  -4.058  -4.058  -4.058  -4.058  -4.058  -1.198  -4.058  -4.058  -4.058  -4.058  -4.058  -4.058  -4.058  -2.699  -1.198  +2.904  +2.100  +0.129  -4.058  -4.058  -4.058  -4.058  -2.699  -0.000  -4.058  -4.058  -1.548\n",
      "D    +1.105  -4.058  -2.326  -0.275  -1.291  -4.058  -4.058  -4.058  -2.946  -2.326  +3.014  -4.058  +0.051  +1.768  -4.058  -1.894  -1.561  -2.946  -4.058  -4.058  -4.058  +2.647  -4.058  -4.058  -4.058  -4.058  -4.058  -4.058  -4.058  -4.058  -4.058  -4.058  -4.058  -4.058  -2.946  -4.058  -4.058  -4.058  -4.058  -1.561  -4.058  -4.058  -4.058  -4.058  -4.058  -4.058  -4.058  -2.326  +0.540  -0.541  -1.064  -1.894  -4.058  -4.058  -4.058  +0.734  +2.458  -4.058  +0.051  +1.008\n",
      "C    -0.700  -4.058  -4.058  +0.788  -4.058  -4.058  +0.535  -0.700  +0.788  -4.058  -0.700  -4.058  -4.058  -4.058  +0.788  -4.058  -1.566  +0.535  -4.058  -4.058  -4.058  -4.058  -4.058  -4.058  -4.058  -4.058  -4.058  -4.058  -4.058  -4.058  -4.058  -4.058  -4.058  -4.058  -4.058  +0.228  -4.058  -4.058  -4.058  -4.058  -4.058  -4.058  -4.058  -4.058  -4.058  -4.058  -4.058  -0.163  -4.058  -4.058  -4.058  -0.163  -0.700  +0.535  +1.003  -4.058  -4.058  -4.058  +0.535  +0.788\n",
      "Q    -0.878  -4.058  +0.040  -1.979  -0.642  -4.058  -0.439  +1.194  -4.058  +0.771  -4.058  -4.058  +0.040  +1.131  -4.058  -4.058  +0.686  -1.160  -2.672  -4.058  -4.058  -4.058  -4.058  -4.058  -4.058  -4.058  -4.058  -2.672  -4.058  -4.058  -4.058  -2.672  -1.160  -4.058  -4.058  -4.058  -4.058  -4.058  -4.058  -2.672  -4.058  -4.058  -4.058  -4.058  -4.058  -4.058  -4.058  -4.058  +0.771  -1.979  +1.194  +0.289  -4.058  +2.872  -4.058  +0.998  -4.058  -4.058  +0.289  -4.058\n",
      "E    +0.501  -3.101  -0.816  +0.856  +0.180  -4.058  +3.111  +2.176  -1.326  -0.234  -2.531  -4.058  +0.612  +0.317  -2.531  -1.806  -0.439  -4.058  -4.058  -4.058  -4.058  -4.058  -4.058  -4.058  -4.058  -4.058  -4.058  -4.058  -4.058  -4.058  -4.058  -4.058  -4.058  -4.058  -4.058  -4.058  -4.058  -1.806  -4.058  -4.058  -4.058  -4.058  -1.806  -4.058  -4.058  -4.058  -4.058  -0.967  +0.557  -0.054  -0.967  +0.901  -4.058  -1.806  -4.058  +2.527  -3.101  -1.806  -1.326  +0.442\n",
      "G    +0.433  -2.577  -1.605  -0.299  +3.003  -4.058  -1.862  -4.058  +0.313  -4.058  -4.058  -4.058  -1.605  -0.398  -4.058  +3.456  -0.207  -3.135  -4.058  -4.058  -4.058  -4.058  -4.058  -4.058  -4.058  -4.058  -4.058  -4.058  -4.058  -3.135  -4.058  -4.058  -4.058  -4.058  -4.058  -4.058  -1.605  -4.058  -4.058  -4.058  -4.058  -4.058  -4.058  -4.058  -3.135  -4.058  -4.058  -4.058  -1.862  -1.862  +1.109  -4.058  -3.135  -3.135  -4.058  -4.058  -4.058  -4.058  -1.386  -0.299\n",
      "H    -4.058  -4.058  -1.339  -4.058  -1.339  -4.058  -4.058  -4.058  +2.088  +0.650  +1.051  -4.058  -0.829  +1.051  -2.135  -4.058  -4.058  -0.829  -4.058  -4.058  +1.267  +0.303  -4.058  -4.058  -4.058  -4.058  -4.058  -4.058  -4.058  -0.453  -4.058  -4.058  -4.058  -2.135  -4.058  -4.058  -4.058  -4.058  -4.058  -4.058  -4.058  -4.058  -4.058  -4.058  -4.058  -4.058  -4.058  +4.515  -4.058  -4.058  -2.135  -4.058  -4.058  -2.135  -4.058  +1.163  +2.608  -4.058  +0.092  -4.058\n",
      "I    -0.654  -1.663  -4.058  -4.058  -1.989  -4.058  -2.411  -0.978  +0.198  +1.279  -4.058  -4.058  -0.654  -2.411  -4.058  -1.989  -1.397  +0.785  -4.058  -4.058  +2.098  -0.807  -4.058  -4.058  -4.058  -4.058  -4.058  -4.058  -4.058  -4.058  -4.058  -4.058  -4.058  -4.058  -4.058  -4.058  -4.058  -4.058  -4.058  -4.058  -4.058  -4.058  -4.058  -4.058  -4.058  -4.058  -4.058  -4.058  +0.985  -1.989  -4.058  -0.389  -4.058  -4.058  -1.663  -0.273  -4.058  -4.058  -1.663  -1.663\n",
      "L    -0.805  +2.838  -4.058  -1.960  -3.330  -4.058  -2.200  -4.058  -1.754  -1.574  -3.330  -4.058  -1.574  -1.139  -4.058  -4.058  -1.754  -4.058  -3.330  -4.058  -0.908  -4.058  -4.058  -4.058  -3.330  -4.058  -4.058  -4.058  -4.058  -4.058  -4.058  -4.058  -4.058  -4.058  -2.200  -3.330  -4.058  -4.058  -3.330  -4.058  -4.058  -4.058  -4.058  -4.058  -4.058  -4.058  -4.058  -1.754  -1.574  -2.849  -2.488  -1.019  -4.058  -2.849  -4.058  +0.444  -0.908  -4.058  -3.330  +1.180\n",
      "K    -1.967  -4.058  -0.138  -1.147  -1.967  -4.058  -0.138  +1.345  +0.055  +1.013  -4.058  -4.058  -0.627  -1.147  -4.058  -0.627  +1.013  -0.627  -4.058  -4.058  -4.058  -4.058  -4.058  -4.058  -4.058  -4.058  -4.058  -4.058  -4.058  -4.058  -4.058  -4.058  -4.058  -4.058  -4.058  -4.058  -4.058  -4.058  -4.058  -4.058  -4.058  -4.058  -4.058  -4.058  -4.058  -4.058  -4.058  -1.967  -1.372  -4.058  +2.211  +0.517  -2.996  -4.058  -4.058  +0.304  +0.917  -4.058  +0.643  -0.780\n",
      "M    -4.058  -4.058  -2.198  -4.058  -0.532  -4.058  +0.011  +2.309  -4.058  -0.235  -4.058  -4.058  -2.198  -0.906  -4.058  -4.058  -1.412  -2.198  -1.412  -4.058  -4.058  -4.058  -4.058  -4.058  -4.058  -4.058  -4.058  -4.058  -4.058  -4.058  -4.058  -4.058  -4.058  -4.058  -4.058  -4.058  -4.058  -4.058  -4.058  -4.058  -4.058  -4.058  -4.058  -4.058  -4.058  -4.058  -4.058  -4.058  -4.058  -2.198  -4.058  -4.058  -4.058  +0.404  -4.058  -4.058  -1.412  -4.058  -2.198  +1.079\n",
      "F    +0.424  -4.058  -4.058  -4.058  -4.058  -4.058  -4.058  -4.058  -4.058  +1.156  -4.058  -4.058  -0.237  -4.058  -1.491  -2.656  -1.959  -1.491  +2.531  +3.043  +0.065  -4.058  -2.656  -4.058  -4.058  -4.058  -4.058  -4.058  -4.058  -4.058  -4.058  -4.058  -4.058  -4.058  -4.058  -4.058  -4.058  -4.058  -4.058  -4.058  -4.058  -4.058  -4.058  -4.058  -4.058  -2.656  -4.058  -1.138  -0.618  -4.058  -4.058  -4.058  -4.058  -4.058  +0.951  -4.058  -2.656  -4.058  -0.855  -1.959\n",
      "P    +2.651  -0.076  +3.860  +2.826  +0.674  -4.058  -4.058  -1.384  -4.058  -4.058  -4.058  -4.058  +2.295  -4.058  -4.058  -4.058  -4.058  +1.788  -4.058  -4.058  -4.058  -4.058  -4.058  -4.058  -4.058  -4.058  -4.058  -4.058  -4.058  -4.058  -4.058  -4.058  -4.058  -4.058  -4.058  -4.058  -4.058  -4.058  -4.058  -4.058  -2.828  -2.828  -2.828  -2.828  -4.058  -1.384  -4.058  +0.599  +0.151  -4.058  -4.058  -2.828  -4.058  -4.058  -4.058  -4.058  +0.252  +4.294  -2.828  -0.204\n",
      "S    -0.019  -0.199  -1.295  -0.106  -0.299  -4.058  -0.783  -1.777  -2.507  -1.777  +1.021  -4.058  +0.536  +1.214  -1.103  -2.507  -4.058  -1.103  -4.058  -4.058  -4.058  -1.777  -4.058  -4.058  -4.058  -4.058  -4.058  -4.058  -4.058  -4.058  -1.777  -1.777  -4.058  -4.058  -4.058  -4.058  -4.058  -3.083  -4.058  -4.058  -4.058  -4.058  -4.058  -1.777  -4.058  -4.058  -1.777  -1.295  -2.507  +0.799  -0.934  -0.019  +1.592  +0.477  -4.058  -2.097  -0.520  -4.058  -0.106  -0.783\n",
      "T    -0.020  -0.020  -4.058  +0.347  -4.058  -4.058  +0.347  -0.372  -1.869  +1.089  +2.336  -4.058  -0.512  -0.128  -0.245  -4.058  -0.020  +1.469  -4.058  -4.058  -2.929  -4.058  -4.058  -2.929  -4.058  -4.058  -4.058  -4.058  -4.058  -4.058  -4.058  -4.058  -4.058  -4.058  -4.058  -4.058  -4.058  -4.058  -4.058  -4.058  -1.535  -4.058  -4.058  -4.058  -4.058  -4.058  -4.058  +0.175  +0.263  +3.165  -4.058  +2.695  +3.572  +2.845  -4.058  +0.175  -4.058  -4.058  +0.703  +1.089\n",
      "W    -4.058  -4.058  -4.058  +0.147  -4.058  +6.408  -0.399  -4.058  -4.058  +2.405  -4.058  -4.058  -4.058  -4.058  -4.058  -4.058  +1.108  -4.058  -4.058  +2.201  +1.324  -4.058  -4.058  -4.058  -4.058  -4.058  -4.058  -4.058  -4.058  -4.058  -4.058  -4.058  -1.289  -4.058  -4.058  -4.058  -4.058  -4.058  -4.058  -4.058  -4.058  -4.058  -4.058  -4.058  -4.058  -4.058  -4.058  -4.058  -4.058  -4.058  -4.058  -4.058  -4.058  -4.058  +6.127  -4.058  -4.058  -4.058  -4.058  +1.828\n",
      "Y    -1.641  -4.058  -4.058  +0.699  -4.058  -0.783  -0.248  +0.302  +1.186  +1.612  -4.058  -4.058  -1.149  -4.058  -4.058  +0.447  -0.783  +1.101  +4.580  +4.303  +2.879  -4.058  -4.058  -4.058  -4.058  -4.058  -4.058  -4.058  -4.058  -4.058  -4.058  -4.058  -4.058  -4.058  -4.058  -4.058  -4.058  -4.058  -4.058  -4.058  -4.058  -4.058  -4.058  -4.058  -4.058  -4.058  -4.058  -0.783  -4.058  -4.058  -4.058  -4.058  -4.058  -4.058  +1.101  -4.058  -4.058  -4.058  -1.149  -0.248\n",
      "V    -2.549  -0.464  -2.144  -3.115  -1.159  -4.058  -0.167  -0.579  +0.291  +0.531  -3.115  -4.058  -1.159  -1.350  -4.058  -3.115  -0.704  +1.957  -2.549  -4.058  +2.056  -1.569  -4.058  -4.058  -4.058  -3.115  -4.058  -4.058  -4.058  -4.058  -3.115  -4.058  -4.058  -1.828  -4.058  -4.058  -4.058  -4.058  -4.058  -4.058  -4.058  -4.058  -4.058  -4.058  -1.828  -4.058  -4.058  -3.115  -0.704  -4.058  -4.058  -0.259  +0.224  -1.350  -4.058  -4.058  -3.115  -4.058  +0.917  -0.464\n",
      "B      -inf    -inf    -inf    -inf    -inf    -inf    -inf    -inf    -inf    -inf    -inf    -inf    -inf    -inf    -inf    -inf    -inf    -inf    -inf    -inf    -inf    -inf    -inf    -inf    -inf    -inf    -inf    -inf    -inf    -inf    -inf    -inf    -inf    -inf    -inf    -inf    -inf    -inf    -inf    -inf    -inf    -inf    -inf    -inf    -inf    -inf    -inf    -inf    -inf    -inf    -inf    -inf    -inf    -inf    -inf    -inf    -inf    -inf    -inf    -inf\n",
      "Z      -inf    -inf    -inf    -inf    -inf    -inf    -inf    -inf    -inf    -inf    -inf    -inf    -inf    -inf    -inf    -inf    -inf    -inf    -inf    -inf    -inf    -inf    -inf    -inf    -inf    -inf    -inf    -inf    -inf    -inf    -inf    -inf    -inf    -inf    -inf    -inf    -inf    -inf    -inf    -inf    -inf    -inf    -inf    -inf    -inf    -inf    -inf    -inf    -inf    -inf    -inf    -inf    -inf    -inf    -inf    -inf    -inf    -inf    -inf    -inf\n",
      "X      -inf    -inf    -inf    -inf    -inf    -inf    -inf    -inf    -inf    -inf    -inf    -inf    -inf    -inf    -inf    -inf    -inf    -inf    -inf    -inf    -inf    -inf    -inf    -inf    -inf    -inf    -inf    -inf    -inf    -inf    -inf    -inf    -inf    -inf    -inf    -inf    -inf    -inf    -inf    -inf    -inf    -inf    -inf    -inf    -inf    -inf    -inf    -inf    -inf    -inf    -inf    -inf    -inf    -inf    -inf    -inf    -inf    -inf    -inf    -inf\n",
      "\n",
      "PLPPGWEMRWDRPDCGRVYYYNFTLVAQAHSSQVLCGENDTRESVPSHNTRTTQWEHPRW\n"
     ]
    }
   ],
   "source": [
    "print(m)\n",
    "print(m._consensusSeq)"
   ]
  },
  {
   "cell_type": "markdown",
   "metadata": {
    "collapsed": true
   },
   "source": [
    "## Weblogo sur MUSCLE\n",
    "\n",
    "![](weblogo_MUSCLE.png)"
   ]
  },
  {
   "cell_type": "markdown",
   "metadata": {
    "collapsed": true
   },
   "source": [
    "# Weblogo sur CLUSTAL\n",
    "\n",
    "![](weblogo_CLUSTAL.png)"
   ]
  },
  {
   "cell_type": "code",
   "execution_count": null,
   "metadata": {
    "collapsed": true
   },
   "outputs": [],
   "source": []
  }
 ],
 "metadata": {
  "kernelspec": {
   "display_name": "Python 3",
   "language": "python",
   "name": "python3"
  },
  "language_info": {
   "codemirror_mode": {
    "name": "ipython",
    "version": 3
   },
   "file_extension": ".py",
   "mimetype": "text/x-python",
   "name": "python",
   "nbconvert_exporter": "python",
   "pygments_lexer": "ipython3",
   "version": "3.5.2"
  }
 },
 "nbformat": 4,
 "nbformat_minor": 1
}
