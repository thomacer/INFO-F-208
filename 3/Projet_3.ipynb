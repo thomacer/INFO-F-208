{
 "cells": [
  {
   "cell_type": "markdown",
   "metadata": {
    "collapsed": true
   },
   "source": [
    "# Mini projet 3: Les profils PSSM\n",
    "\n",
    "Le but de ce projet est de construire un profil pou rla famille de séquences WW et de comparer votre résultat avec le profil qu'on peut trouver sur le site web PFAM pour la même famille. Comme avant, n'oubliez pas de bien expliquez comment vous avez trouvé votre solution dans votre document Jupyter."
   ]
  },
  {
   "cell_type": "markdown",
   "metadata": {},
   "source": [
    "## Données\n",
    "\n",
    "J'ai choisis d'aligner les séquences de la famille _WW_ d'utiliser les outils [CLUSTAL Omega](http://www.ebi.ac.uk/Tools/msa/clustalo/) et [MUSCLE](http://www.ebi.ac.uk/Tools/msa/muscle/). "
   ]
  },
  {
   "cell_type": "markdown",
   "metadata": {},
   "source": [
    "## Implémentation\n",
    "\n",
    "Je réutilise le parser que j'ai utilisez dans mes précédents projets pour lire des fichiers _.fasta_"
   ]
  },
  {
   "cell_type": "code",
   "execution_count": 71,
   "metadata": {
    "collapsed": true
   },
   "outputs": [],
   "source": [
    "VALID_AMINO = \"ARNDCQEGHILKMFPSTWYVBZX\""
   ]
  },
  {
   "cell_type": "code",
   "execution_count": 72,
   "metadata": {
    "collapsed": true
   },
   "outputs": [],
   "source": [
    "class Sequence():\n",
    "    \"\"\"\n",
    "    ADT séquence qui représente une séquence d’acides aminés\n",
    "    et tous les opérations qu’on peut exécuter sur une séquence.\n",
    "    \"\"\"\n",
    "    def __init__(self, sequence):\n",
    "        self.current = 0\n",
    "        self.sequence = sequence\n",
    "    \n",
    "    def __repr__(self):\n",
    "        return str(self.sequence)\n",
    "    \n",
    "    def __len__(self):\n",
    "        return len(self.sequence)\n",
    "    \n",
    "    def __iter__(self):\n",
    "        self.current = 0\n",
    "        return self\n",
    "    \n",
    "    def next(self):\n",
    "        if self.current > len(self.sequence):\n",
    "            raise StopIteration\n",
    "        else:\n",
    "            self.current += 1\n",
    "            return self.sequence[self.current - 1]\n",
    "    \n",
    "    def __getitem__(self, index):\n",
    "        \"\"\"\n",
    "        @desc: Permet d'interpreter la classe comme une \"String\".\n",
    "        \n",
    "        @param{index}: Index de la lettre qu'on veut consulter.\n",
    "        \"\"\"\n",
    "        return self.sequence[index]\n",
    "\n",
    "    @staticmethod\n",
    "    def load(filename):\n",
    "        \"\"\"\n",
    "        \"\"\"\n",
    "        with open(filename) as f:\n",
    "            seq = []\n",
    "            for line in f:\n",
    "                if line[0] == \">\":\n",
    "                    if seq:\n",
    "                        yield Sequence(''.join(seq))\n",
    "                    seq = [] \n",
    "                else:\n",
    "                    seq.append(line.strip())\n",
    "                    \n",
    "            if (seq):\n",
    "                yield Sequence(''.join(seq))"
   ]
  },
  {
   "cell_type": "markdown",
   "metadata": {},
   "source": [
    "J'importe les résultats des alignements executé à l'aide des outils _CLUSTAL Omega_ et _MUSCLE_ dans le notebook."
   ]
  },
  {
   "cell_type": "code",
   "execution_count": 73,
   "metadata": {
    "collapsed": false
   },
   "outputs": [],
   "source": [
    "clustal = [seq for seq in Sequence.load('./msaresults-CLUSTAL.fasta')]\n",
    "muscle = [seq for seq in Sequence.load('./msaresults-MUSCLE.fasta')]"
   ]
  },
  {
   "cell_type": "code",
   "execution_count": 81,
   "metadata": {
    "collapsed": true
   },
   "outputs": [],
   "source": [
    "# les proba sont hard-coder | trouver sur swissprot\n",
    "PROBABILITY_AMINO = {\n",
    "    \"A\": 0.0826,   \"Q\": 0.0393,   \"L\": 0.0966,   \"S\": 0.0657,\n",
    "    \"R\": 0.0553,   \"E\": 0.0674,   \"K\": 0.0583,   \"T\": 0.0534,\n",
    "    \"N\": 0.0405,   \"G\": 0.0708,   \"M\": 0.0241,   \"W\": 0.0109,\n",
    "    \"D\": 0.0546,   \"H\": 0.0227,   \"F\": 0.0386,   \"Y\": 0.0292,\n",
    "    \"C\": 0.0137,   \"I\": 0.0595,   \"P\": 0.0471,   \"V\": 0.0687,\n",
    "    \"B\": 0.0000,   \"Z\": 0.0000,  \"X\": 0.0000\n",
    "}"
   ]
  },
  {
   "cell_type": "code",
   "execution_count": 82,
   "metadata": {
    "collapsed": false
   },
   "outputs": [],
   "source": [
    "from math import log, sqrt\n",
    "\n",
    "\n",
    "class Profil(object):\n",
    "    \"\"\" \n",
    "    Classe permetant de créer un profile \n",
    "    \"\"\"\n",
    "    def __init__(self, seqCollection):\n",
    "        self._seqCollection = seqCollection\n",
    "        self._validAmino = VALID_AMINO\n",
    "        self._seqSize = len(self._seqCollection[0])\n",
    "\n",
    "        self._alpha = len(self._seqCollection) - 1\n",
    "        self._beta = sqrt(len(self._seqCollection))\n",
    "\n",
    "        # initialisation du profile\n",
    "        # pour des raisons de performance/facilité. Ce sera une liste\n",
    "        # de dico dont les clés sont les acides aminés\n",
    "        self._profile = [None for i in range(self._seqSize)]\n",
    "        for iSeq in range(self._seqSize):\n",
    "            self._profile[iSeq] = dict()\n",
    "            for amino in self._validAmino:\n",
    "                self._profile[iSeq][amino] = 0\n",
    "\n",
    "        self._consensusSeq = \"\"\n",
    "\n",
    "        self._make()\n",
    "\n",
    "    def _addFrequency(self):\n",
    "        \"\"\"\n",
    "        Ajoute la fréquence pour chaque acide aminé au profile \n",
    "        \"\"\"\n",
    "        for seq in self._seqCollection:\n",
    "            for i in range(self._seqSize):\n",
    "                if seq[i] != \"-\":\n",
    "                    self._profile[i][seq[i]] += (1 / len(self._seqCollection))\n",
    "\n",
    "    def _addQ(self):\n",
    "        \"\"\"\n",
    "        Ajoute des pseudo count au profile\n",
    "        \"\"\"\n",
    "        for i in range(self._seqSize):\n",
    "            for amino in self._validAmino:\n",
    "                # ajout des pseudo count\n",
    "                self._profile[i][amino] = (self._alpha * self._profile[i][amino]) + (self._beta * PROBABILITY_AMINO[amino])\n",
    "                self._profile[i][amino] /= (self._alpha + self._beta)\n",
    "\n",
    "    def _addScore(self):\n",
    "        \"\"\" \n",
    "        Ajoute le score (log finale) au profile\n",
    "        \"\"\"\n",
    "        for i in range(self._seqSize):\n",
    "            for amino in self._validAmino:\n",
    "                if PROBABILITY_AMINO[amino] == 0 and self._profile[i][amino] == 0:\n",
    "                    # limite log tendant => 0 ==  (log(0/0)) == -inf\n",
    "                    # car une proba réellement nul n'est pas possible => log(0)\n",
    "                    self._profile[i][amino] = float(\"-inf\")\n",
    "                elif PROBABILITY_AMINO[amino] != 0: #log(nbr-reel)\n",
    "                    score = self._profile[i][amino] / PROBABILITY_AMINO[amino]\n",
    "                    self._profile[i][amino] = log(score, 10)\n",
    "                else: # log(inf)\n",
    "                    self._profile[i][amino] = float(\"inf\")\n",
    "\n",
    "    def _makeConsensus(self):\n",
    "        \"\"\" Crée la séquence consensus\"\"\"\n",
    "        self._consensusSeq = \"\"\n",
    "        for i in range(self._seqSize):\n",
    "            # on ajoute a chaque fois le meilleur amino au consensus\n",
    "            bestAmino = self._validAmino[0]\n",
    "            for amino in self._validAmino:\n",
    "                if self._profile[i][amino] > self._profile[i][bestAmino]:\n",
    "                    bestAmino = amino\n",
    "                    \n",
    "            self._consensusSeq += bestAmino\n",
    "\n",
    "    def _make(self):\n",
    "        \"\"\"\n",
    "        Cette méthode ajoute les différentes étapes au profil et crée le consensus\n",
    "        \"\"\"\n",
    "        self._addFrequency()\n",
    "        self._addQ()\n",
    "        self._addScore()\n",
    "        \n",
    "        self._makeConsensus()\n",
    "\n",
    "    def getConsensus(self):\n",
    "        \"\"\"\n",
    "        Renvoi la séquence consensus\n",
    "        \"\"\"\n",
    "        return self._consensusSeq\n",
    "\n",
    "    def getProfile(self):\n",
    "        \"\"\"\n",
    "        Renvoi le profile \n",
    "        \"\"\"\n",
    "        return self._profile\n",
    "\n",
    "    def profiletoFile(self, filename):\n",
    "        \"\"\" \n",
    "        Cette méthode sauvegarde le profile dans un fichier\n",
    "        \"\"\"\n",
    "        f = open(filename, \"w\")\n",
    "        # Première ligne : numéro des colonnes\n",
    "        f.write('   ')\n",
    "        for i in range(self._seqSize):\n",
    "            f.write(str(i) + \"      \")\n",
    "        f.write(\"\\n\")\n",
    "        # Ensuite pour chaque acide aminé, on ecrit les données de colonnes\n",
    "        for a in self._validAmino:\n",
    "            f.write(a + \"   \")\n",
    "            for i in range(self._seqSize):\n",
    "                f.write(str(round(self._profile[i][a], 3)) + \"  \")\n",
    "            f.write(\"\\n\")\n",
    "        f.close()\n",
    "\n",
    "    def consensusToFile(self, filename):\n",
    "        \"\"\"\n",
    "        Cette méthode sauvegarde le consensus dans un fichier\n",
    "        \"\"\"\n",
    "        f = open(filename, \"w\")\n",
    "        f.write(self._consensusSeq)\n",
    "        f.close()"
   ]
  },
  {
   "cell_type": "markdown",
   "metadata": {},
   "source": [
    "### L'algorithme\n",
    "\n",
    "L'algorithme se déroule en plusieurs étapes pour calculer le PSSM\n",
    "\n",
    "La première est de calculer la fréquence d'apparition de chaque acide aminé sur l'ensemble sur chaque séquence.\n",
    "\n",
    "$f_{u,b} = \\frac{n_{u,b}}{N_{seq}}$ est la fréquence d'apparition d'un acide aminé sur une séquence avec $n_{u,b}$ qui est le nombre de fois qu'apparait un acide aminé dans une séquence et $N_{seq}$ qui est le nombre de séquence.\n",
    "\n",
    "Ce calcul est défini dans la fonction `def _addFrequency(self):`."
   ]
  },
  {
   "cell_type": "markdown",
   "metadata": {},
   "source": [
    "La deuxième étape est de calculer la probabilitée de trouver un acide aminé dans une séquence.\n",
    "\n",
    "$$\\alpha = \\sqrt{N_{seq}}$$\n",
    "$$N'_{seq} = nombre\\ de\\ séquence\\ sans\\ \"gap\"\\ à\\ cette\\ position$$\n",
    "$$\\beta = N'_{seq}$$\n",
    "\n",
    "$p_a$ est la probabilité d'obtenir un acide aminé trouvé sur _SWISSPROT_ que j'ai traduit comme suit dans mon implémentation:\n",
    "\n",
    "```\n",
    "PROBABILITY_AMINO = {\n",
    "    \"A\": 0.0826,   \"Q\": 0.0393,   \"L\": 0.0966,   \"S\": 0.0657,\n",
    "    \"R\": 0.0553,   \"E\": 0.0674,   \"K\": 0.0583,   \"T\": 0.0534,\n",
    "    \"N\": 0.0405,   \"G\": 0.0708,   \"M\": 0.0241,   \"W\": 0.0109,\n",
    "    \"D\": 0.0546,   \"H\": 0.0227,   \"F\": 0.0386,   \"Y\": 0.0292,\n",
    "    \"C\": 0.0137,   \"I\": 0.0595,   \"P\": 0.0471,   \"V\": 0.0687,\n",
    "    \"B\": 0.0000,   \"Z\": 0.0000,  \"X\": 0.0000\n",
    "}\n",
    "```\n",
    "\n",
    "La probabilitée est donc:\n",
    "\n",
    "$$q_{u,a} = \\frac{\\alpha f_{u,a} + \\beta p_a}{\\alpha + \\beta}$$\n",
    "\n",
    "La probabilitée est calculée dans la méthode `def _addFrequency(self):`"
   ]
  },
  {
   "cell_type": "markdown",
   "metadata": {},
   "source": [
    "Le score final est calculé avec la formule suivante:\n",
    "\n",
    "$$m_{u,a} = log \\frac{q_{u,a}}{p_a}$$"
   ]
  },
  {
   "cell_type": "code",
   "execution_count": 83,
   "metadata": {
    "collapsed": false
   },
   "outputs": [],
   "source": [
    "c = Profil(clustal)\n",
    "m = Profil(muscle)"
   ]
  },
  {
   "cell_type": "code",
   "execution_count": 84,
   "metadata": {
    "collapsed": false
   },
   "outputs": [],
   "source": [
    "m.profiletoFile('test')"
   ]
  },
  {
   "cell_type": "code",
   "execution_count": null,
   "metadata": {
    "collapsed": true
   },
   "outputs": [],
   "source": []
  }
 ],
 "metadata": {
  "kernelspec": {
   "display_name": "Python 3",
   "language": "python",
   "name": "python3"
  },
  "language_info": {
   "codemirror_mode": {
    "name": "ipython",
    "version": 3
   },
   "file_extension": ".py",
   "mimetype": "text/x-python",
   "name": "python",
   "nbconvert_exporter": "python",
   "pygments_lexer": "ipython3",
   "version": "3.5.2"
  }
 },
 "nbformat": 4,
 "nbformat_minor": 1
}
